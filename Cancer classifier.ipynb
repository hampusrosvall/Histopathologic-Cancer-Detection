{
 "cells": [
  {
   "cell_type": "markdown",
   "metadata": {},
   "source": [
    "#### Importing packages "
   ]
  },
  {
   "cell_type": "code",
   "execution_count": 1,
   "metadata": {},
   "outputs": [
    {
     "name": "stderr",
     "output_type": "stream",
     "text": [
      "Using TensorFlow backend.\n"
     ]
    }
   ],
   "source": [
    "import keras\n",
    "import tensorflow as tf\n",
    "import numpy as np\n",
    "import pandas as pd\n",
    "import os, shutil\n",
    "from glob import glob\n",
    "\n",
    "from sklearn.model_selection import train_test_split"
   ]
  },
  {
   "cell_type": "markdown",
   "metadata": {},
   "source": [
    "#### Code to create DataFrames to map path to images with labels "
   ]
  },
  {
   "cell_type": "code",
   "execution_count": 2,
   "metadata": {},
   "outputs": [],
   "source": [
    "# creating dataframe with the path and image id \n",
    "\n",
    "train_origin_dir = '/home/knajf/train'\n",
    "test_origin_dir = '/home/knajf/datasets/cancer/test'\n",
    "df = pd.DataFrame({'path': glob(os.path.join(train_origin_dir,'*.tif'))})\n",
    "\n",
    "# accessing the id of the image \n",
    "df['id'] = df.path.map(\n",
    "    lambda x: x.split('/')[-1].split('.')[0]\n",
    ")\n",
    "\n",
    "# importing the labels and merging on 'id' column \n",
    "label_path = os.path.join('/home/knajf/datasets/cancer', 'train_labels.csv')\n",
    "df_labels = pd.read_csv(filepath_or_buffer = label_path)\n",
    "df = df.merge(df_labels, on = 'id')"
   ]
  },
  {
   "cell_type": "code",
   "execution_count": 3,
   "metadata": {},
   "outputs": [
    {
     "data": {
      "text/html": [
       "<div>\n",
       "<style scoped>\n",
       "    .dataframe tbody tr th:only-of-type {\n",
       "        vertical-align: middle;\n",
       "    }\n",
       "\n",
       "    .dataframe tbody tr th {\n",
       "        vertical-align: top;\n",
       "    }\n",
       "\n",
       "    .dataframe thead th {\n",
       "        text-align: right;\n",
       "    }\n",
       "</style>\n",
       "<table border=\"1\" class=\"dataframe\">\n",
       "  <thead>\n",
       "    <tr style=\"text-align: right;\">\n",
       "      <th></th>\n",
       "      <th>path</th>\n",
       "      <th>id</th>\n",
       "      <th>label</th>\n",
       "    </tr>\n",
       "  </thead>\n",
       "  <tbody>\n",
       "    <tr>\n",
       "      <th>0</th>\n",
       "      <td>/home/knajf/train/3297847a5ddca221a06b8562e7ca...</td>\n",
       "      <td>3297847a5ddca221a06b8562e7ca9f72f683c48d</td>\n",
       "      <td>1</td>\n",
       "    </tr>\n",
       "    <tr>\n",
       "      <th>1</th>\n",
       "      <td>/home/knajf/train/c7ad5078e1a5fc2f653caf53beb3...</td>\n",
       "      <td>c7ad5078e1a5fc2f653caf53beb32dbbd42cd840</td>\n",
       "      <td>1</td>\n",
       "    </tr>\n",
       "    <tr>\n",
       "      <th>2</th>\n",
       "      <td>/home/knajf/train/d83605d3ea636c23cb60668e6068...</td>\n",
       "      <td>d83605d3ea636c23cb60668e6068bb7a8f130492</td>\n",
       "      <td>0</td>\n",
       "    </tr>\n",
       "    <tr>\n",
       "      <th>3</th>\n",
       "      <td>/home/knajf/train/48aea54e6e1e1c1d99605cafe1f0...</td>\n",
       "      <td>48aea54e6e1e1c1d99605cafe1f0f4326060599a</td>\n",
       "      <td>0</td>\n",
       "    </tr>\n",
       "    <tr>\n",
       "      <th>4</th>\n",
       "      <td>/home/knajf/train/8a5cf51ca7c1c39f8154e644240a...</td>\n",
       "      <td>8a5cf51ca7c1c39f8154e644240a45b5795920a6</td>\n",
       "      <td>0</td>\n",
       "    </tr>\n",
       "  </tbody>\n",
       "</table>\n",
       "</div>"
      ],
      "text/plain": [
       "                                                path  \\\n",
       "0  /home/knajf/train/3297847a5ddca221a06b8562e7ca...   \n",
       "1  /home/knajf/train/c7ad5078e1a5fc2f653caf53beb3...   \n",
       "2  /home/knajf/train/d83605d3ea636c23cb60668e6068...   \n",
       "3  /home/knajf/train/48aea54e6e1e1c1d99605cafe1f0...   \n",
       "4  /home/knajf/train/8a5cf51ca7c1c39f8154e644240a...   \n",
       "\n",
       "                                         id  label  \n",
       "0  3297847a5ddca221a06b8562e7ca9f72f683c48d      1  \n",
       "1  c7ad5078e1a5fc2f653caf53beb32dbbd42cd840      1  \n",
       "2  d83605d3ea636c23cb60668e6068bb7a8f130492      0  \n",
       "3  48aea54e6e1e1c1d99605cafe1f0f4326060599a      0  \n",
       "4  8a5cf51ca7c1c39f8154e644240a45b5795920a6      0  "
      ]
     },
     "execution_count": 3,
     "metadata": {},
     "output_type": "execute_result"
    }
   ],
   "source": [
    "df.head()"
   ]
  },
  {
   "cell_type": "markdown",
   "metadata": {},
   "source": [
    "### Visualizing some images "
   ]
  },
  {
   "cell_type": "code",
   "execution_count": 22,
   "metadata": {},
   "outputs": [],
   "source": [
    "from skimage.io import imread\n",
    "df['image'] = df['path'].map(imread)"
   ]
  },
  {
   "cell_type": "code",
   "execution_count": 26,
   "metadata": {},
   "outputs": [
    {
     "data": {
      "text/html": [
       "<div>\n",
       "<style scoped>\n",
       "    .dataframe tbody tr th:only-of-type {\n",
       "        vertical-align: middle;\n",
       "    }\n",
       "\n",
       "    .dataframe tbody tr th {\n",
       "        vertical-align: top;\n",
       "    }\n",
       "\n",
       "    .dataframe thead th {\n",
       "        text-align: right;\n",
       "    }\n",
       "</style>\n",
       "<table border=\"1\" class=\"dataframe\">\n",
       "  <thead>\n",
       "    <tr style=\"text-align: right;\">\n",
       "      <th></th>\n",
       "      <th>path</th>\n",
       "      <th>id</th>\n",
       "      <th>label</th>\n",
       "      <th>image</th>\n",
       "    </tr>\n",
       "  </thead>\n",
       "  <tbody>\n",
       "    <tr>\n",
       "      <th>0</th>\n",
       "      <td>/home/knajf/train/3297847a5ddca221a06b8562e7ca...</td>\n",
       "      <td>3297847a5ddca221a06b8562e7ca9f72f683c48d</td>\n",
       "      <td>1</td>\n",
       "      <td>[[[183, 116, 185], [203, 130, 203], [206, 125,...</td>\n",
       "    </tr>\n",
       "    <tr>\n",
       "      <th>1</th>\n",
       "      <td>/home/knajf/train/c7ad5078e1a5fc2f653caf53beb3...</td>\n",
       "      <td>c7ad5078e1a5fc2f653caf53beb32dbbd42cd840</td>\n",
       "      <td>1</td>\n",
       "      <td>[[[92, 35, 78], [147, 91, 128], [180, 125, 154...</td>\n",
       "    </tr>\n",
       "    <tr>\n",
       "      <th>2</th>\n",
       "      <td>/home/knajf/train/d83605d3ea636c23cb60668e6068...</td>\n",
       "      <td>d83605d3ea636c23cb60668e6068bb7a8f130492</td>\n",
       "      <td>0</td>\n",
       "      <td>[[[240, 181, 201], [244, 187, 204], [222, 168,...</td>\n",
       "    </tr>\n",
       "    <tr>\n",
       "      <th>3</th>\n",
       "      <td>/home/knajf/train/48aea54e6e1e1c1d99605cafe1f0...</td>\n",
       "      <td>48aea54e6e1e1c1d99605cafe1f0f4326060599a</td>\n",
       "      <td>0</td>\n",
       "      <td>[[[203, 158, 161], [226, 180, 190], [214, 163,...</td>\n",
       "    </tr>\n",
       "    <tr>\n",
       "      <th>4</th>\n",
       "      <td>/home/knajf/train/8a5cf51ca7c1c39f8154e644240a...</td>\n",
       "      <td>8a5cf51ca7c1c39f8154e644240a45b5795920a6</td>\n",
       "      <td>0</td>\n",
       "      <td>[[[239, 234, 240], [239, 234, 240], [239, 234,...</td>\n",
       "    </tr>\n",
       "    <tr>\n",
       "      <th>5</th>\n",
       "      <td>/home/knajf/train/fc361fa8f70f3b1fbc924c3d02c9...</td>\n",
       "      <td>fc361fa8f70f3b1fbc924c3d02c9175c74081dd3</td>\n",
       "      <td>0</td>\n",
       "      <td>[[[73, 35, 74], [51, 13, 54], [123, 82, 126], ...</td>\n",
       "    </tr>\n",
       "    <tr>\n",
       "      <th>6</th>\n",
       "      <td>/home/knajf/train/1521404b466eb97323632ffb3062...</td>\n",
       "      <td>1521404b466eb97323632ffb306238f5b16e810c</td>\n",
       "      <td>1</td>\n",
       "      <td>[[[210, 191, 223], [192, 176, 203], [210, 196,...</td>\n",
       "    </tr>\n",
       "    <tr>\n",
       "      <th>7</th>\n",
       "      <td>/home/knajf/train/cc4fc1af5fe54da5ac2ef59e322b...</td>\n",
       "      <td>cc4fc1af5fe54da5ac2ef59e322b34b012e8bb37</td>\n",
       "      <td>0</td>\n",
       "      <td>[[[168, 75, 155], [206, 135, 213], [112, 68, 1...</td>\n",
       "    </tr>\n",
       "    <tr>\n",
       "      <th>8</th>\n",
       "      <td>/home/knajf/train/b85270e1c3f0122d58a36a169dd6...</td>\n",
       "      <td>b85270e1c3f0122d58a36a169dd64bf83e89d9d9</td>\n",
       "      <td>1</td>\n",
       "      <td>[[[27, 15, 89], [53, 31, 104], [66, 28, 101], ...</td>\n",
       "    </tr>\n",
       "    <tr>\n",
       "      <th>9</th>\n",
       "      <td>/home/knajf/train/195472489fe194447424cf8b0555...</td>\n",
       "      <td>195472489fe194447424cf8b0555376ef9f06a4e</td>\n",
       "      <td>1</td>\n",
       "      <td>[[[137, 77, 173], [138, 77, 170], [158, 96, 18...</td>\n",
       "    </tr>\n",
       "    <tr>\n",
       "      <th>10</th>\n",
       "      <td>/home/knajf/train/cc5c8fdf18da5cf4d9721d656109...</td>\n",
       "      <td>cc5c8fdf18da5cf4d9721d6561092807752cd57d</td>\n",
       "      <td>1</td>\n",
       "      <td>[[[121, 74, 108], [202, 153, 185], [175, 124, ...</td>\n",
       "    </tr>\n",
       "    <tr>\n",
       "      <th>11</th>\n",
       "      <td>/home/knajf/train/e8bcf69b3d486cc3c7096605a94c...</td>\n",
       "      <td>e8bcf69b3d486cc3c7096605a94c4c09a35b6a02</td>\n",
       "      <td>1</td>\n",
       "      <td>[[[208, 154, 178], [201, 149, 171], [255, 213,...</td>\n",
       "    </tr>\n",
       "    <tr>\n",
       "      <th>12</th>\n",
       "      <td>/home/knajf/train/4321ab7f309e4e28d630ccb6b3f7...</td>\n",
       "      <td>4321ab7f309e4e28d630ccb6b3f7e0dba7125eaf</td>\n",
       "      <td>1</td>\n",
       "      <td>[[[208, 138, 200], [204, 135, 200], [184, 114,...</td>\n",
       "    </tr>\n",
       "    <tr>\n",
       "      <th>13</th>\n",
       "      <td>/home/knajf/train/3b7c04eb2441d613fdb442b09096...</td>\n",
       "      <td>3b7c04eb2441d613fdb442b09096beca7e7b39f3</td>\n",
       "      <td>1</td>\n",
       "      <td>[[[229, 168, 199], [197, 136, 167], [175, 119,...</td>\n",
       "    </tr>\n",
       "    <tr>\n",
       "      <th>14</th>\n",
       "      <td>/home/knajf/train/d9a65678a94386bf08e924f0c44e...</td>\n",
       "      <td>d9a65678a94386bf08e924f0c44ee77ce70e10d9</td>\n",
       "      <td>0</td>\n",
       "      <td>[[[223, 218, 224], [223, 218, 224], [223, 218,...</td>\n",
       "    </tr>\n",
       "    <tr>\n",
       "      <th>15</th>\n",
       "      <td>/home/knajf/train/69f39075300855e95ef19a31908e...</td>\n",
       "      <td>69f39075300855e95ef19a31908ec073248aef7c</td>\n",
       "      <td>0</td>\n",
       "      <td>[[[149, 104, 205], [101, 44, 149], [88, 26, 13...</td>\n",
       "    </tr>\n",
       "    <tr>\n",
       "      <th>16</th>\n",
       "      <td>/home/knajf/train/f35287eb23fec99a5974608494fe...</td>\n",
       "      <td>f35287eb23fec99a5974608494fe6416821b007c</td>\n",
       "      <td>0</td>\n",
       "      <td>[[[204, 173, 204], [156, 119, 152], [167, 124,...</td>\n",
       "    </tr>\n",
       "    <tr>\n",
       "      <th>17</th>\n",
       "      <td>/home/knajf/train/e49e813466172c2fb8fa356c8dc4...</td>\n",
       "      <td>e49e813466172c2fb8fa356c8dc46f1c36fafcdf</td>\n",
       "      <td>0</td>\n",
       "      <td>[[[255, 249, 255], [255, 239, 246], [223, 202,...</td>\n",
       "    </tr>\n",
       "    <tr>\n",
       "      <th>18</th>\n",
       "      <td>/home/knajf/train/d0cca1992a6a020760dc39aa2a47...</td>\n",
       "      <td>d0cca1992a6a020760dc39aa2a47bbfbd01e4c61</td>\n",
       "      <td>1</td>\n",
       "      <td>[[[177, 126, 169], [152, 100, 146], [83, 31, 8...</td>\n",
       "    </tr>\n",
       "    <tr>\n",
       "      <th>19</th>\n",
       "      <td>/home/knajf/train/7b6e397ea238f5ef5688d2882486...</td>\n",
       "      <td>7b6e397ea238f5ef5688d2882486b88bf5153088</td>\n",
       "      <td>0</td>\n",
       "      <td>[[[156, 96, 184], [52, 5, 97], [64, 37, 134], ...</td>\n",
       "    </tr>\n",
       "    <tr>\n",
       "      <th>20</th>\n",
       "      <td>/home/knajf/train/0d7e34c272bd08c9c064a75e154a...</td>\n",
       "      <td>0d7e34c272bd08c9c064a75e154a3e7e7ebd8ff1</td>\n",
       "      <td>1</td>\n",
       "      <td>[[[181, 125, 152], [174, 114, 142], [222, 155,...</td>\n",
       "    </tr>\n",
       "    <tr>\n",
       "      <th>21</th>\n",
       "      <td>/home/knajf/train/b228e18a3a874b6e1877b3ab4ae2...</td>\n",
       "      <td>b228e18a3a874b6e1877b3ab4ae2796f9883b1a5</td>\n",
       "      <td>0</td>\n",
       "      <td>[[[127, 70, 123], [164, 114, 163], [255, 217, ...</td>\n",
       "    </tr>\n",
       "    <tr>\n",
       "      <th>22</th>\n",
       "      <td>/home/knajf/train/fc066b162eb16ed55ee423f78657...</td>\n",
       "      <td>fc066b162eb16ed55ee423f78657d4535b20cf70</td>\n",
       "      <td>0</td>\n",
       "      <td>[[[255, 253, 251], [239, 234, 231], [249, 248,...</td>\n",
       "    </tr>\n",
       "    <tr>\n",
       "      <th>23</th>\n",
       "      <td>/home/knajf/train/001d6bb6a3da42d296bf5f377d31...</td>\n",
       "      <td>001d6bb6a3da42d296bf5f377d31507bc6ec62d6</td>\n",
       "      <td>0</td>\n",
       "      <td>[[[252, 192, 243], [240, 180, 231], [240, 178,...</td>\n",
       "    </tr>\n",
       "    <tr>\n",
       "      <th>24</th>\n",
       "      <td>/home/knajf/train/c4b7d2cb1c3f0338b5ab756ec4d7...</td>\n",
       "      <td>c4b7d2cb1c3f0338b5ab756ec4d73ddbf1847d8b</td>\n",
       "      <td>0</td>\n",
       "      <td>[[[230, 213, 231], [240, 223, 241], [242, 225,...</td>\n",
       "    </tr>\n",
       "    <tr>\n",
       "      <th>25</th>\n",
       "      <td>/home/knajf/train/29477952836be4b6772dd93cf968...</td>\n",
       "      <td>29477952836be4b6772dd93cf96810ce9224318c</td>\n",
       "      <td>1</td>\n",
       "      <td>[[[194, 157, 175], [174, 137, 154], [227, 190,...</td>\n",
       "    </tr>\n",
       "    <tr>\n",
       "      <th>26</th>\n",
       "      <td>/home/knajf/train/053d8767aed8ed7f2097d7f39b35...</td>\n",
       "      <td>053d8767aed8ed7f2097d7f39b35b94d717ddf02</td>\n",
       "      <td>0</td>\n",
       "      <td>[[[255, 242, 251], [213, 192, 201], [209, 189,...</td>\n",
       "    </tr>\n",
       "    <tr>\n",
       "      <th>27</th>\n",
       "      <td>/home/knajf/train/10fe7aae0f1c8b2591956b77eae5...</td>\n",
       "      <td>10fe7aae0f1c8b2591956b77eae5eaa62beb7128</td>\n",
       "      <td>0</td>\n",
       "      <td>[[[245, 245, 243], [245, 245, 243], [245, 245,...</td>\n",
       "    </tr>\n",
       "    <tr>\n",
       "      <th>28</th>\n",
       "      <td>/home/knajf/train/d0f47d63aab62c51c0f43fb3c9b9...</td>\n",
       "      <td>d0f47d63aab62c51c0f43fb3c9b9463b0ad13d1e</td>\n",
       "      <td>0</td>\n",
       "      <td>[[[255, 253, 255], [230, 230, 228], [244, 250,...</td>\n",
       "    </tr>\n",
       "    <tr>\n",
       "      <th>29</th>\n",
       "      <td>/home/knajf/train/105ff49435385cab87959798cead...</td>\n",
       "      <td>105ff49435385cab87959798ceadb194fe71f151</td>\n",
       "      <td>1</td>\n",
       "      <td>[[[175, 87, 165], [206, 118, 196], [207, 121, ...</td>\n",
       "    </tr>\n",
       "    <tr>\n",
       "      <th>30</th>\n",
       "      <td>/home/knajf/train/b6cf6cce4ca4c83fc446cf8301a7...</td>\n",
       "      <td>b6cf6cce4ca4c83fc446cf8301a7e4462d76acf3</td>\n",
       "      <td>1</td>\n",
       "      <td>[[[224, 178, 206], [218, 175, 203], [255, 219,...</td>\n",
       "    </tr>\n",
       "    <tr>\n",
       "      <th>31</th>\n",
       "      <td>/home/knajf/train/a8ad58bd65faa0be2f00429bd605...</td>\n",
       "      <td>a8ad58bd65faa0be2f00429bd60560e8cc257647</td>\n",
       "      <td>1</td>\n",
       "      <td>[[[174, 127, 171], [236, 191, 230], [255, 239,...</td>\n",
       "    </tr>\n",
       "    <tr>\n",
       "      <th>32</th>\n",
       "      <td>/home/knajf/train/7fd64306dfe141ec03dac302a905...</td>\n",
       "      <td>7fd64306dfe141ec03dac302a9055bbdc04e96b2</td>\n",
       "      <td>0</td>\n",
       "      <td>[[[111, 70, 146], [132, 85, 177], [125, 70, 17...</td>\n",
       "    </tr>\n",
       "    <tr>\n",
       "      <th>33</th>\n",
       "      <td>/home/knajf/train/dd6ede3a75c58ebc253bcea17f14...</td>\n",
       "      <td>dd6ede3a75c58ebc253bcea17f14d8aac4d19994</td>\n",
       "      <td>0</td>\n",
       "      <td>[[[111, 43, 90], [149, 82, 135], [135, 71, 123...</td>\n",
       "    </tr>\n",
       "    <tr>\n",
       "      <th>34</th>\n",
       "      <td>/home/knajf/train/d22dcaa666ce2217aa567e2bb768...</td>\n",
       "      <td>d22dcaa666ce2217aa567e2bb7689dae0bd5ec9d</td>\n",
       "      <td>1</td>\n",
       "      <td>[[[233, 188, 229], [239, 196, 239], [229, 188,...</td>\n",
       "    </tr>\n",
       "    <tr>\n",
       "      <th>35</th>\n",
       "      <td>/home/knajf/train/1157dee9cf8064fb8c4562eb57ea...</td>\n",
       "      <td>1157dee9cf8064fb8c4562eb57eaf4d9044a3a72</td>\n",
       "      <td>0</td>\n",
       "      <td>[[[240, 167, 240], [181, 107, 186], [172, 93, ...</td>\n",
       "    </tr>\n",
       "    <tr>\n",
       "      <th>36</th>\n",
       "      <td>/home/knajf/train/1cda7e32538e07af85c6e8cf0476...</td>\n",
       "      <td>1cda7e32538e07af85c6e8cf0476be39119dec4c</td>\n",
       "      <td>0</td>\n",
       "      <td>[[[187, 115, 153], [230, 162, 199], [125, 64, ...</td>\n",
       "    </tr>\n",
       "    <tr>\n",
       "      <th>37</th>\n",
       "      <td>/home/knajf/train/8c7476cc743b0b5b55de900f5e90...</td>\n",
       "      <td>8c7476cc743b0b5b55de900f5e90f80b3c46ba59</td>\n",
       "      <td>0</td>\n",
       "      <td>[[[151, 100, 169], [154, 103, 180], [168, 120,...</td>\n",
       "    </tr>\n",
       "    <tr>\n",
       "      <th>38</th>\n",
       "      <td>/home/knajf/train/2f31c7d3006876859a6a759d8f43...</td>\n",
       "      <td>2f31c7d3006876859a6a759d8f431166d3e05141</td>\n",
       "      <td>0</td>\n",
       "      <td>[[[242, 244, 239], [243, 245, 240], [243, 248,...</td>\n",
       "    </tr>\n",
       "    <tr>\n",
       "      <th>39</th>\n",
       "      <td>/home/knajf/train/6066fb9e0e77e3ec0b16c1bb9db6...</td>\n",
       "      <td>6066fb9e0e77e3ec0b16c1bb9db61df73ca5a01a</td>\n",
       "      <td>0</td>\n",
       "      <td>[[[253, 247, 249], [249, 243, 245], [248, 242,...</td>\n",
       "    </tr>\n",
       "    <tr>\n",
       "      <th>40</th>\n",
       "      <td>/home/knajf/train/8f9b40c013e5d0d57a30a49023e0...</td>\n",
       "      <td>8f9b40c013e5d0d57a30a49023e09a325c551be5</td>\n",
       "      <td>0</td>\n",
       "      <td>[[[173, 120, 150], [144, 95, 125], [231, 191, ...</td>\n",
       "    </tr>\n",
       "    <tr>\n",
       "      <th>41</th>\n",
       "      <td>/home/knajf/train/1bfbc28304aa5deaf6a95228bed0...</td>\n",
       "      <td>1bfbc28304aa5deaf6a95228bed0c56bf71cad8b</td>\n",
       "      <td>1</td>\n",
       "      <td>[[[150, 71, 150], [191, 119, 203], [153, 94, 1...</td>\n",
       "    </tr>\n",
       "    <tr>\n",
       "      <th>42</th>\n",
       "      <td>/home/knajf/train/0b7375959b455a8e7d221e119f4d...</td>\n",
       "      <td>0b7375959b455a8e7d221e119f4d0cbf15c06063</td>\n",
       "      <td>1</td>\n",
       "      <td>[[[150, 91, 123], [143, 86, 119], [170, 112, 1...</td>\n",
       "    </tr>\n",
       "    <tr>\n",
       "      <th>43</th>\n",
       "      <td>/home/knajf/train/34d4f173ed79971bc41030d2c264...</td>\n",
       "      <td>34d4f173ed79971bc41030d2c264089fdc482e60</td>\n",
       "      <td>0</td>\n",
       "      <td>[[[227, 178, 234], [153, 102, 159], [214, 154,...</td>\n",
       "    </tr>\n",
       "    <tr>\n",
       "      <th>44</th>\n",
       "      <td>/home/knajf/train/b25351b0c83037f714abe5aff4b4...</td>\n",
       "      <td>b25351b0c83037f714abe5aff4b4ff8cf3fd5733</td>\n",
       "      <td>1</td>\n",
       "      <td>[[[66, 26, 114], [109, 70, 161], [123, 90, 181...</td>\n",
       "    </tr>\n",
       "    <tr>\n",
       "      <th>45</th>\n",
       "      <td>/home/knajf/train/78d9136d36efc2cfd2bc09e7712a...</td>\n",
       "      <td>78d9136d36efc2cfd2bc09e7712ae62b0cd8d451</td>\n",
       "      <td>0</td>\n",
       "      <td>[[[243, 226, 234], [219, 207, 211], [255, 252,...</td>\n",
       "    </tr>\n",
       "    <tr>\n",
       "      <th>46</th>\n",
       "      <td>/home/knajf/train/602aa5030f24e4bd2aec05b89dfa...</td>\n",
       "      <td>602aa5030f24e4bd2aec05b89dfa7cd62933340f</td>\n",
       "      <td>0</td>\n",
       "      <td>[[[140, 82, 133], [166, 110, 159], [187, 135, ...</td>\n",
       "    </tr>\n",
       "    <tr>\n",
       "      <th>47</th>\n",
       "      <td>/home/knajf/train/933c5c086f66fe5739866133ad7f...</td>\n",
       "      <td>933c5c086f66fe5739866133ad7f594f50bca9ea</td>\n",
       "      <td>0</td>\n",
       "      <td>[[[186, 116, 142], [243, 170, 197], [242, 166,...</td>\n",
       "    </tr>\n",
       "    <tr>\n",
       "      <th>48</th>\n",
       "      <td>/home/knajf/train/f4cbcc5794bafa40595b29be6c08...</td>\n",
       "      <td>f4cbcc5794bafa40595b29be6c084d8d2c739202</td>\n",
       "      <td>1</td>\n",
       "      <td>[[[147, 101, 174], [173, 122, 197], [181, 124,...</td>\n",
       "    </tr>\n",
       "    <tr>\n",
       "      <th>49</th>\n",
       "      <td>/home/knajf/train/879ce3bbdeb3ec1ec80a1c85d5d1...</td>\n",
       "      <td>879ce3bbdeb3ec1ec80a1c85d5d1f5731ee403a4</td>\n",
       "      <td>0</td>\n",
       "      <td>[[[87, 50, 102], [151, 116, 156], [242, 208, 2...</td>\n",
       "    </tr>\n",
       "  </tbody>\n",
       "</table>\n",
       "</div>"
      ],
      "text/plain": [
       "                                                 path  \\\n",
       "0   /home/knajf/train/3297847a5ddca221a06b8562e7ca...   \n",
       "1   /home/knajf/train/c7ad5078e1a5fc2f653caf53beb3...   \n",
       "2   /home/knajf/train/d83605d3ea636c23cb60668e6068...   \n",
       "3   /home/knajf/train/48aea54e6e1e1c1d99605cafe1f0...   \n",
       "4   /home/knajf/train/8a5cf51ca7c1c39f8154e644240a...   \n",
       "5   /home/knajf/train/fc361fa8f70f3b1fbc924c3d02c9...   \n",
       "6   /home/knajf/train/1521404b466eb97323632ffb3062...   \n",
       "7   /home/knajf/train/cc4fc1af5fe54da5ac2ef59e322b...   \n",
       "8   /home/knajf/train/b85270e1c3f0122d58a36a169dd6...   \n",
       "9   /home/knajf/train/195472489fe194447424cf8b0555...   \n",
       "10  /home/knajf/train/cc5c8fdf18da5cf4d9721d656109...   \n",
       "11  /home/knajf/train/e8bcf69b3d486cc3c7096605a94c...   \n",
       "12  /home/knajf/train/4321ab7f309e4e28d630ccb6b3f7...   \n",
       "13  /home/knajf/train/3b7c04eb2441d613fdb442b09096...   \n",
       "14  /home/knajf/train/d9a65678a94386bf08e924f0c44e...   \n",
       "15  /home/knajf/train/69f39075300855e95ef19a31908e...   \n",
       "16  /home/knajf/train/f35287eb23fec99a5974608494fe...   \n",
       "17  /home/knajf/train/e49e813466172c2fb8fa356c8dc4...   \n",
       "18  /home/knajf/train/d0cca1992a6a020760dc39aa2a47...   \n",
       "19  /home/knajf/train/7b6e397ea238f5ef5688d2882486...   \n",
       "20  /home/knajf/train/0d7e34c272bd08c9c064a75e154a...   \n",
       "21  /home/knajf/train/b228e18a3a874b6e1877b3ab4ae2...   \n",
       "22  /home/knajf/train/fc066b162eb16ed55ee423f78657...   \n",
       "23  /home/knajf/train/001d6bb6a3da42d296bf5f377d31...   \n",
       "24  /home/knajf/train/c4b7d2cb1c3f0338b5ab756ec4d7...   \n",
       "25  /home/knajf/train/29477952836be4b6772dd93cf968...   \n",
       "26  /home/knajf/train/053d8767aed8ed7f2097d7f39b35...   \n",
       "27  /home/knajf/train/10fe7aae0f1c8b2591956b77eae5...   \n",
       "28  /home/knajf/train/d0f47d63aab62c51c0f43fb3c9b9...   \n",
       "29  /home/knajf/train/105ff49435385cab87959798cead...   \n",
       "30  /home/knajf/train/b6cf6cce4ca4c83fc446cf8301a7...   \n",
       "31  /home/knajf/train/a8ad58bd65faa0be2f00429bd605...   \n",
       "32  /home/knajf/train/7fd64306dfe141ec03dac302a905...   \n",
       "33  /home/knajf/train/dd6ede3a75c58ebc253bcea17f14...   \n",
       "34  /home/knajf/train/d22dcaa666ce2217aa567e2bb768...   \n",
       "35  /home/knajf/train/1157dee9cf8064fb8c4562eb57ea...   \n",
       "36  /home/knajf/train/1cda7e32538e07af85c6e8cf0476...   \n",
       "37  /home/knajf/train/8c7476cc743b0b5b55de900f5e90...   \n",
       "38  /home/knajf/train/2f31c7d3006876859a6a759d8f43...   \n",
       "39  /home/knajf/train/6066fb9e0e77e3ec0b16c1bb9db6...   \n",
       "40  /home/knajf/train/8f9b40c013e5d0d57a30a49023e0...   \n",
       "41  /home/knajf/train/1bfbc28304aa5deaf6a95228bed0...   \n",
       "42  /home/knajf/train/0b7375959b455a8e7d221e119f4d...   \n",
       "43  /home/knajf/train/34d4f173ed79971bc41030d2c264...   \n",
       "44  /home/knajf/train/b25351b0c83037f714abe5aff4b4...   \n",
       "45  /home/knajf/train/78d9136d36efc2cfd2bc09e7712a...   \n",
       "46  /home/knajf/train/602aa5030f24e4bd2aec05b89dfa...   \n",
       "47  /home/knajf/train/933c5c086f66fe5739866133ad7f...   \n",
       "48  /home/knajf/train/f4cbcc5794bafa40595b29be6c08...   \n",
       "49  /home/knajf/train/879ce3bbdeb3ec1ec80a1c85d5d1...   \n",
       "\n",
       "                                          id  label  \\\n",
       "0   3297847a5ddca221a06b8562e7ca9f72f683c48d      1   \n",
       "1   c7ad5078e1a5fc2f653caf53beb32dbbd42cd840      1   \n",
       "2   d83605d3ea636c23cb60668e6068bb7a8f130492      0   \n",
       "3   48aea54e6e1e1c1d99605cafe1f0f4326060599a      0   \n",
       "4   8a5cf51ca7c1c39f8154e644240a45b5795920a6      0   \n",
       "5   fc361fa8f70f3b1fbc924c3d02c9175c74081dd3      0   \n",
       "6   1521404b466eb97323632ffb306238f5b16e810c      1   \n",
       "7   cc4fc1af5fe54da5ac2ef59e322b34b012e8bb37      0   \n",
       "8   b85270e1c3f0122d58a36a169dd64bf83e89d9d9      1   \n",
       "9   195472489fe194447424cf8b0555376ef9f06a4e      1   \n",
       "10  cc5c8fdf18da5cf4d9721d6561092807752cd57d      1   \n",
       "11  e8bcf69b3d486cc3c7096605a94c4c09a35b6a02      1   \n",
       "12  4321ab7f309e4e28d630ccb6b3f7e0dba7125eaf      1   \n",
       "13  3b7c04eb2441d613fdb442b09096beca7e7b39f3      1   \n",
       "14  d9a65678a94386bf08e924f0c44ee77ce70e10d9      0   \n",
       "15  69f39075300855e95ef19a31908ec073248aef7c      0   \n",
       "16  f35287eb23fec99a5974608494fe6416821b007c      0   \n",
       "17  e49e813466172c2fb8fa356c8dc46f1c36fafcdf      0   \n",
       "18  d0cca1992a6a020760dc39aa2a47bbfbd01e4c61      1   \n",
       "19  7b6e397ea238f5ef5688d2882486b88bf5153088      0   \n",
       "20  0d7e34c272bd08c9c064a75e154a3e7e7ebd8ff1      1   \n",
       "21  b228e18a3a874b6e1877b3ab4ae2796f9883b1a5      0   \n",
       "22  fc066b162eb16ed55ee423f78657d4535b20cf70      0   \n",
       "23  001d6bb6a3da42d296bf5f377d31507bc6ec62d6      0   \n",
       "24  c4b7d2cb1c3f0338b5ab756ec4d73ddbf1847d8b      0   \n",
       "25  29477952836be4b6772dd93cf96810ce9224318c      1   \n",
       "26  053d8767aed8ed7f2097d7f39b35b94d717ddf02      0   \n",
       "27  10fe7aae0f1c8b2591956b77eae5eaa62beb7128      0   \n",
       "28  d0f47d63aab62c51c0f43fb3c9b9463b0ad13d1e      0   \n",
       "29  105ff49435385cab87959798ceadb194fe71f151      1   \n",
       "30  b6cf6cce4ca4c83fc446cf8301a7e4462d76acf3      1   \n",
       "31  a8ad58bd65faa0be2f00429bd60560e8cc257647      1   \n",
       "32  7fd64306dfe141ec03dac302a9055bbdc04e96b2      0   \n",
       "33  dd6ede3a75c58ebc253bcea17f14d8aac4d19994      0   \n",
       "34  d22dcaa666ce2217aa567e2bb7689dae0bd5ec9d      1   \n",
       "35  1157dee9cf8064fb8c4562eb57eaf4d9044a3a72      0   \n",
       "36  1cda7e32538e07af85c6e8cf0476be39119dec4c      0   \n",
       "37  8c7476cc743b0b5b55de900f5e90f80b3c46ba59      0   \n",
       "38  2f31c7d3006876859a6a759d8f431166d3e05141      0   \n",
       "39  6066fb9e0e77e3ec0b16c1bb9db61df73ca5a01a      0   \n",
       "40  8f9b40c013e5d0d57a30a49023e09a325c551be5      0   \n",
       "41  1bfbc28304aa5deaf6a95228bed0c56bf71cad8b      1   \n",
       "42  0b7375959b455a8e7d221e119f4d0cbf15c06063      1   \n",
       "43  34d4f173ed79971bc41030d2c264089fdc482e60      0   \n",
       "44  b25351b0c83037f714abe5aff4b4ff8cf3fd5733      1   \n",
       "45  78d9136d36efc2cfd2bc09e7712ae62b0cd8d451      0   \n",
       "46  602aa5030f24e4bd2aec05b89dfa7cd62933340f      0   \n",
       "47  933c5c086f66fe5739866133ad7f594f50bca9ea      0   \n",
       "48  f4cbcc5794bafa40595b29be6c084d8d2c739202      1   \n",
       "49  879ce3bbdeb3ec1ec80a1c85d5d1f5731ee403a4      0   \n",
       "\n",
       "                                                image  \n",
       "0   [[[183, 116, 185], [203, 130, 203], [206, 125,...  \n",
       "1   [[[92, 35, 78], [147, 91, 128], [180, 125, 154...  \n",
       "2   [[[240, 181, 201], [244, 187, 204], [222, 168,...  \n",
       "3   [[[203, 158, 161], [226, 180, 190], [214, 163,...  \n",
       "4   [[[239, 234, 240], [239, 234, 240], [239, 234,...  \n",
       "5   [[[73, 35, 74], [51, 13, 54], [123, 82, 126], ...  \n",
       "6   [[[210, 191, 223], [192, 176, 203], [210, 196,...  \n",
       "7   [[[168, 75, 155], [206, 135, 213], [112, 68, 1...  \n",
       "8   [[[27, 15, 89], [53, 31, 104], [66, 28, 101], ...  \n",
       "9   [[[137, 77, 173], [138, 77, 170], [158, 96, 18...  \n",
       "10  [[[121, 74, 108], [202, 153, 185], [175, 124, ...  \n",
       "11  [[[208, 154, 178], [201, 149, 171], [255, 213,...  \n",
       "12  [[[208, 138, 200], [204, 135, 200], [184, 114,...  \n",
       "13  [[[229, 168, 199], [197, 136, 167], [175, 119,...  \n",
       "14  [[[223, 218, 224], [223, 218, 224], [223, 218,...  \n",
       "15  [[[149, 104, 205], [101, 44, 149], [88, 26, 13...  \n",
       "16  [[[204, 173, 204], [156, 119, 152], [167, 124,...  \n",
       "17  [[[255, 249, 255], [255, 239, 246], [223, 202,...  \n",
       "18  [[[177, 126, 169], [152, 100, 146], [83, 31, 8...  \n",
       "19  [[[156, 96, 184], [52, 5, 97], [64, 37, 134], ...  \n",
       "20  [[[181, 125, 152], [174, 114, 142], [222, 155,...  \n",
       "21  [[[127, 70, 123], [164, 114, 163], [255, 217, ...  \n",
       "22  [[[255, 253, 251], [239, 234, 231], [249, 248,...  \n",
       "23  [[[252, 192, 243], [240, 180, 231], [240, 178,...  \n",
       "24  [[[230, 213, 231], [240, 223, 241], [242, 225,...  \n",
       "25  [[[194, 157, 175], [174, 137, 154], [227, 190,...  \n",
       "26  [[[255, 242, 251], [213, 192, 201], [209, 189,...  \n",
       "27  [[[245, 245, 243], [245, 245, 243], [245, 245,...  \n",
       "28  [[[255, 253, 255], [230, 230, 228], [244, 250,...  \n",
       "29  [[[175, 87, 165], [206, 118, 196], [207, 121, ...  \n",
       "30  [[[224, 178, 206], [218, 175, 203], [255, 219,...  \n",
       "31  [[[174, 127, 171], [236, 191, 230], [255, 239,...  \n",
       "32  [[[111, 70, 146], [132, 85, 177], [125, 70, 17...  \n",
       "33  [[[111, 43, 90], [149, 82, 135], [135, 71, 123...  \n",
       "34  [[[233, 188, 229], [239, 196, 239], [229, 188,...  \n",
       "35  [[[240, 167, 240], [181, 107, 186], [172, 93, ...  \n",
       "36  [[[187, 115, 153], [230, 162, 199], [125, 64, ...  \n",
       "37  [[[151, 100, 169], [154, 103, 180], [168, 120,...  \n",
       "38  [[[242, 244, 239], [243, 245, 240], [243, 248,...  \n",
       "39  [[[253, 247, 249], [249, 243, 245], [248, 242,...  \n",
       "40  [[[173, 120, 150], [144, 95, 125], [231, 191, ...  \n",
       "41  [[[150, 71, 150], [191, 119, 203], [153, 94, 1...  \n",
       "42  [[[150, 91, 123], [143, 86, 119], [170, 112, 1...  \n",
       "43  [[[227, 178, 234], [153, 102, 159], [214, 154,...  \n",
       "44  [[[66, 26, 114], [109, 70, 161], [123, 90, 181...  \n",
       "45  [[[243, 226, 234], [219, 207, 211], [255, 252,...  \n",
       "46  [[[140, 82, 133], [166, 110, 159], [187, 135, ...  \n",
       "47  [[[186, 116, 142], [243, 170, 197], [242, 166,...  \n",
       "48  [[[147, 101, 174], [173, 122, 197], [181, 124,...  \n",
       "49  [[[87, 50, 102], [151, 116, 156], [242, 208, 2...  "
      ]
     },
     "execution_count": 26,
     "metadata": {},
     "output_type": "execute_result"
    }
   ],
   "source": [
    "df.head(50)"
   ]
  },
  {
   "cell_type": "code",
   "execution_count": 29,
   "metadata": {},
   "outputs": [
    {
     "data": {
      "image/png": "[encoded data removed]",
      "text/plain": [
       "<Figure size 576x144 with 2 Axes>"
      ]
     },
     "metadata": {},
     "output_type": "display_data"
    }
   ],
   "source": [
    "import matplotlib.pyplot as plt\n",
    "\n",
    "images = [(df['image'][2], df['label'][2]), \n",
    "          (df['image'][45], df['label'][45])]\n",
    "\n",
    "fig, m_axs = plt.subplots(1, len(images), figsize = (8, 2))\n",
    "#show the images and label them\n",
    "for ii, c_ax in enumerate(m_axs):\n",
    "    c_ax.imshow(images[ii][0])\n",
    "    c_ax.set_title(images[ii][1])\n",
    "    \n",
    "plt.savefig('cancer-picturesneg.png', format = 'png')"
   ]
  },
  {
   "cell_type": "code",
   "execution_count": 30,
   "metadata": {},
   "outputs": [
    {
     "data": {
      "image/png": "[encoded data removed]",
      "text/plain": [
       "<Figure size 576x144 with 2 Axes>"
      ]
     },
     "metadata": {},
     "output_type": "display_data"
    }
   ],
   "source": [
    "import matplotlib.pyplot as plt\n",
    "\n",
    "images = [(df['image'][0], df['label'][0]),\n",
    "          (df['image'][11], df['label'][11])]\n",
    "\n",
    "fig, m_axs = plt.subplots(1, len(images), figsize = (8, 2))\n",
    "#show the images and label them\n",
    "for ii, c_ax in enumerate(m_axs):\n",
    "    c_ax.imshow(images[ii][0])\n",
    "    c_ax.set_title(images[ii][1])\n",
    "    \n",
    "plt.savefig('cancer-picturespos.png', format = 'png')"
   ]
  },
  {
   "cell_type": "code",
   "execution_count": 38,
   "metadata": {},
   "outputs": [
    {
     "data": {
      "text/html": [
       "<div>\n",
       "<style scoped>\n",
       "    .dataframe tbody tr th:only-of-type {\n",
       "        vertical-align: middle;\n",
       "    }\n",
       "\n",
       "    .dataframe tbody tr th {\n",
       "        vertical-align: top;\n",
       "    }\n",
       "\n",
       "    .dataframe thead th {\n",
       "        text-align: right;\n",
       "    }\n",
       "</style>\n",
       "<table border=\"1\" class=\"dataframe\">\n",
       "  <thead>\n",
       "    <tr style=\"text-align: right;\">\n",
       "      <th></th>\n",
       "      <th>path</th>\n",
       "      <th>id</th>\n",
       "      <th>label</th>\n",
       "    </tr>\n",
       "  </thead>\n",
       "  <tbody>\n",
       "    <tr>\n",
       "      <th>0</th>\n",
       "      <td>/home/knajf/train/3297847a5ddca221a06b8562e7ca...</td>\n",
       "      <td>3297847a5ddca221a06b8562e7ca9f72f683c48d</td>\n",
       "      <td>1</td>\n",
       "    </tr>\n",
       "    <tr>\n",
       "      <th>1</th>\n",
       "      <td>/home/knajf/train/c7ad5078e1a5fc2f653caf53beb3...</td>\n",
       "      <td>c7ad5078e1a5fc2f653caf53beb32dbbd42cd840</td>\n",
       "      <td>1</td>\n",
       "    </tr>\n",
       "    <tr>\n",
       "      <th>2</th>\n",
       "      <td>/home/knajf/train/d83605d3ea636c23cb60668e6068...</td>\n",
       "      <td>d83605d3ea636c23cb60668e6068bb7a8f130492</td>\n",
       "      <td>0</td>\n",
       "    </tr>\n",
       "    <tr>\n",
       "      <th>3</th>\n",
       "      <td>/home/knajf/train/48aea54e6e1e1c1d99605cafe1f0...</td>\n",
       "      <td>48aea54e6e1e1c1d99605cafe1f0f4326060599a</td>\n",
       "      <td>0</td>\n",
       "    </tr>\n",
       "    <tr>\n",
       "      <th>4</th>\n",
       "      <td>/home/knajf/train/8a5cf51ca7c1c39f8154e644240a...</td>\n",
       "      <td>8a5cf51ca7c1c39f8154e644240a45b5795920a6</td>\n",
       "      <td>0</td>\n",
       "    </tr>\n",
       "  </tbody>\n",
       "</table>\n",
       "</div>"
      ],
      "text/plain": [
       "                                                path  \\\n",
       "0  /home/knajf/train/3297847a5ddca221a06b8562e7ca...   \n",
       "1  /home/knajf/train/c7ad5078e1a5fc2f653caf53beb3...   \n",
       "2  /home/knajf/train/d83605d3ea636c23cb60668e6068...   \n",
       "3  /home/knajf/train/48aea54e6e1e1c1d99605cafe1f0...   \n",
       "4  /home/knajf/train/8a5cf51ca7c1c39f8154e644240a...   \n",
       "\n",
       "                                         id  label  \n",
       "0  3297847a5ddca221a06b8562e7ca9f72f683c48d      1  \n",
       "1  c7ad5078e1a5fc2f653caf53beb32dbbd42cd840      1  \n",
       "2  d83605d3ea636c23cb60668e6068bb7a8f130492      0  \n",
       "3  48aea54e6e1e1c1d99605cafe1f0f4326060599a      0  \n",
       "4  8a5cf51ca7c1c39f8154e644240a45b5795920a6      0  "
      ]
     },
     "execution_count": 38,
     "metadata": {},
     "output_type": "execute_result"
    }
   ],
   "source": [
    "# remove image column again \n",
    "df.drop('image', inplace = True, axis = 1)\n",
    "df.head()"
   ]
  },
  {
   "cell_type": "markdown",
   "metadata": {},
   "source": [
    "#### Train-test split "
   ]
  },
  {
   "cell_type": "code",
   "execution_count": 3,
   "metadata": {},
   "outputs": [],
   "source": [
    "# train-val split \n",
    "\n",
    "df_train, df_val = train_test_split(df, test_size = 0.20, shuffle = True)"
   ]
  },
  {
   "cell_type": "code",
   "execution_count": 5,
   "metadata": {},
   "outputs": [
    {
     "name": "stdout",
     "output_type": "stream",
     "text": [
      "176020\n",
      "44005\n"
     ]
    }
   ],
   "source": [
    "# santity check \n",
    "\n",
    "print(len(df_train))\n",
    "print(len(df_val))"
   ]
  },
  {
   "cell_type": "markdown",
   "metadata": {},
   "source": [
    "#### Code to run first time to create folders "
   ]
  },
  {
   "cell_type": "code",
   "execution_count": 47,
   "metadata": {},
   "outputs": [
    {
     "ename": "FileExistsError",
     "evalue": "[Errno 17] File exists: '/home/jupyter/datasets'",
     "output_type": "error",
     "traceback": [
      "\u001b[0;31m---------------------------------------------------------------------------\u001b[0m",
      "\u001b[0;31mFileExistsError\u001b[0m                           Traceback (most recent call last)",
      "\u001b[0;32m<ipython-input-47-eacb1748a4c9>\u001b[0m in \u001b[0;36m<module>\u001b[0;34m\u001b[0m\n\u001b[1;32m      2\u001b[0m \u001b[0;34m\u001b[0m\u001b[0m\n\u001b[1;32m      3\u001b[0m \u001b[0mdataset_folder\u001b[0m \u001b[0;34m=\u001b[0m \u001b[0mos\u001b[0m\u001b[0;34m.\u001b[0m\u001b[0mpath\u001b[0m\u001b[0;34m.\u001b[0m\u001b[0mjoin\u001b[0m\u001b[0;34m(\u001b[0m\u001b[0mos\u001b[0m\u001b[0;34m.\u001b[0m\u001b[0mgetcwd\u001b[0m\u001b[0;34m(\u001b[0m\u001b[0;34m)\u001b[0m\u001b[0;34m,\u001b[0m \u001b[0;34m'datasets'\u001b[0m\u001b[0;34m)\u001b[0m\u001b[0;34m\u001b[0m\u001b[0m\n\u001b[0;32m----> 4\u001b[0;31m \u001b[0mos\u001b[0m\u001b[0;34m.\u001b[0m\u001b[0mmkdir\u001b[0m\u001b[0;34m(\u001b[0m\u001b[0mdataset_folder\u001b[0m\u001b[0;34m)\u001b[0m\u001b[0;34m\u001b[0m\u001b[0m\n\u001b[0m",
      "\u001b[0;31mFileExistsError\u001b[0m: [Errno 17] File exists: '/home/jupyter/datasets'"
     ]
    }
   ],
   "source": [
    "# creating dataset foler \n",
    "\n",
    "dataset_folder = os.path.join(os.getcwd(), 'datasets')\n",
    "os.mkdir(dataset_folder)"
   ]
  },
  {
   "cell_type": "code",
   "execution_count": 18,
   "metadata": {},
   "outputs": [],
   "source": [
    "# creating histopathologic folder \n",
    "\n",
    "hist_folder = os.path.join(dataset_folder, 'histopathologic')\n",
    "os.mkdir(hist_folder)"
   ]
  },
  {
   "cell_type": "code",
   "execution_count": 19,
   "metadata": {},
   "outputs": [],
   "source": [
    "base_dir = hist_folder\n",
    "\n",
    "# creating training directory \n",
    "train_dir = os.path.join(base_dir, 'train')\n",
    "os.mkdir(train_dir)\n",
    "\n",
    "# creating validation directory \n",
    "validation_dir = os.path.join(base_dir, 'validation')\n",
    "os.mkdir(validation_dir)\n",
    "\n",
    "# creating test directory \n",
    "test_dir = os.path.join(base_dir, 'test')\n",
    "os.mkdir(test_dir)\n",
    "\n",
    "# creating binary class directories on training and validation paths \n",
    "train_val_paths = [train_dir, validation_dir]\n",
    "for folder in train_val_paths: \n",
    "    for subfolder in ['0', '1']: \n",
    "        os.mkdir(os.path.join(folder, subfolder))"
   ]
  },
  {
   "cell_type": "markdown",
   "metadata": {},
   "source": [
    "#### When data is in folders run this code to init paths "
   ]
  },
  {
   "cell_type": "code",
   "execution_count": 8,
   "metadata": {},
   "outputs": [],
   "source": [
    "# init paths\n",
    "dataset_folder = os.path.join(os.getcwd(), 'datasets')\n",
    "hist_folder = os.path.join(dataset_folder, 'histopathologic')\n",
    "base_dir = hist_folder\n",
    "train_dir = os.path.join(base_dir, 'train')\n",
    "validation_dir = os.path.join(base_dir, 'validation')\n",
    "test_dir = os.path.join(base_dir, 'test')"
   ]
  },
  {
   "cell_type": "markdown",
   "metadata": {},
   "source": [
    "#### Code to add data to designated folders "
   ]
  },
  {
   "cell_type": "code",
   "execution_count": 25,
   "metadata": {},
   "outputs": [],
   "source": [
    "# adding training set data to folders \n",
    "\n",
    "for entry in df_train['id']: \n",
    "    # get label \n",
    "    label = df_train.loc[df_train.id == entry].label.values[0]\n",
    "    \n",
    "    # add '.tif' to end \n",
    "    fname = entry + '.tif'\n",
    "    \n",
    "    # copy from source to input/train/label folder\n",
    "    label_folder = os.path.join(train_dir, str(label))\n",
    "    src = os.path.join(train_origin_dir, fname)\n",
    "    dst = os.path.join(label_folder, fname)\n",
    "    shutil.copyfile(src, dst)"
   ]
  },
  {
   "cell_type": "code",
   "execution_count": 26,
   "metadata": {},
   "outputs": [],
   "source": [
    "# adding validation set data to folders\n",
    "\n",
    "for entry in df_val['id']: \n",
    "    # get label \n",
    "    label = df_val.loc[df_val.id == entry].label.values[0]\n",
    "    \n",
    "    # add '.tif' to end \n",
    "    fname = entry + '.tif'\n",
    "    \n",
    "    # copy from source to input/train/label folder\n",
    "    label_folder = os.path.join(validation_dir, str(label))\n",
    "    src = os.path.join(train_origin_dir, fname)\n",
    "    dst = os.path.join(label_folder, fname)\n",
    "    shutil.copyfile(src, dst)"
   ]
  },
  {
   "cell_type": "code",
   "execution_count": 49,
   "metadata": {},
   "outputs": [
    {
     "name": "stdout",
     "output_type": "stream",
     "text": [
      "total training images labeled 0:  104715\n",
      "total training images labeled 1:  71305\n",
      "total validation images labeled 0:  26193\n",
      "total validation images labeled 1:  17812\n",
      "total number of images:  220025\n"
     ]
    }
   ],
   "source": [
    "print('total training images labeled 0: ', len(os.listdir(os.path.join(train_dir, '0'))))\n",
    "print('total training images labeled 1: ', len(os.listdir(os.path.join(train_dir, '1'))))\n",
    "print('total validation images labeled 0: ', len(os.listdir(os.path.join(validation_dir, '0'))))\n",
    "print('total validation images labeled 1: ', len(os.listdir(os.path.join(validation_dir, '1'))))\n",
    "print('total number of images: ', len(os.listdir(os.path.join(train_dir, '0'))) + \n",
    "      len(os.listdir(os.path.join(train_dir, '1'))) + \n",
    "      len(os.listdir(os.path.join(validation_dir, '0'))) + \n",
    "      len(os.listdir(os.path.join(validation_dir, '1'))))"
   ]
  },
  {
   "cell_type": "markdown",
   "metadata": {},
   "source": [
    "#### Initialize ImageDataGenerator "
   ]
  },
  {
   "cell_type": "code",
   "execution_count": 7,
   "metadata": {},
   "outputs": [
    {
     "name": "stdout",
     "output_type": "stream",
     "text": [
      "Found 176020 images belonging to 2 classes.\n",
      "Found 44005 images belonging to 2 classes.\n"
     ]
    }
   ],
   "source": [
    "from keras.preprocessing.image import ImageDataGenerator\n",
    "\n",
    "IMAGE_SIZE = 96 # nbr of pixels \n",
    "num_train_samples = len(df_train) # nbr of samples to train on\n",
    "num_val_samples = len(df_val) # nbr of samples to perform validation on \n",
    "train_batch_size = 32 # number of samples to train on per epoch\n",
    "val_batch_size = 32 # number of samples to validate on per epoch  \n",
    "\n",
    "train_steps = np.ceil(num_train_samples / train_batch_size) # number of gradient descent steps per epoch\n",
    "val_steps = np.ceil(num_val_samples / val_batch_size) \n",
    "\n",
    "train_datagen = ImageDataGenerator(preprocessing_function=lambda x:(x - x.mean()) / x.std() if x.std() > 0 else x,\n",
    "                                  rotation_range = 90, \n",
    "                                  horizontal_flip = True,\n",
    "                                  zoom_range = 0.2)\n",
    "test_datagen = ImageDataGenerator(preprocessing_function=lambda x:(x - x.mean()) / x.std() if x.std() > 0 else x)\n",
    "\n",
    "train_generator = train_datagen.flow_from_directory(\n",
    "    train_dir, \n",
    "    target_size = (IMAGE_SIZE, IMAGE_SIZE),\n",
    "    batch_size = train_batch_size, \n",
    "    class_mode = 'binary'\n",
    ")\n",
    "\n",
    "validation_generator = test_datagen.flow_from_directory(\n",
    "        validation_dir,\n",
    "        target_size = (IMAGE_SIZE, IMAGE_SIZE),\n",
    "        batch_size = val_batch_size,\n",
    "        class_mode = 'binary'\n",
    ")"
   ]
  },
  {
   "cell_type": "code",
   "execution_count": 19,
   "metadata": {},
   "outputs": [
    {
     "name": "stdout",
     "output_type": "stream",
     "text": [
      "_________________________________________________________________\n",
      "Layer (type)                 Output Shape              Param #   \n",
      "=================================================================\n",
      "conv2d_5 (Conv2D)            (None, 94, 94, 32)        896       \n",
      "_________________________________________________________________\n",
      "max_pooling2d_5 (MaxPooling2 (None, 47, 47, 32)        0         \n",
      "_________________________________________________________________\n",
      "dropout_5 (Dropout)          (None, 47, 47, 32)        0         \n",
      "_________________________________________________________________\n",
      "conv2d_6 (Conv2D)            (None, 45, 45, 64)        18496     \n",
      "_________________________________________________________________\n",
      "max_pooling2d_6 (MaxPooling2 (None, 22, 22, 64)        0         \n",
      "_________________________________________________________________\n",
      "dropout_6 (Dropout)          (None, 22, 22, 64)        0         \n",
      "_________________________________________________________________\n",
      "conv2d_7 (Conv2D)            (None, 20, 20, 128)       73856     \n",
      "_________________________________________________________________\n",
      "max_pooling2d_7 (MaxPooling2 (None, 10, 10, 128)       0         \n",
      "_________________________________________________________________\n",
      "conv2d_8 (Conv2D)            (None, 8, 8, 128)         147584    \n",
      "_________________________________________________________________\n",
      "max_pooling2d_8 (MaxPooling2 (None, 4, 4, 128)         0         \n",
      "_________________________________________________________________\n",
      "dropout_7 (Dropout)          (None, 4, 4, 128)         0         \n",
      "_________________________________________________________________\n",
      "batch_normalization_2 (Batch (None, 4, 4, 128)         512       \n",
      "_________________________________________________________________\n",
      "flatten_2 (Flatten)          (None, 2048)              0         \n",
      "_________________________________________________________________\n",
      "dense_3 (Dense)              (None, 512)               1049088   \n",
      "_________________________________________________________________\n",
      "dropout_8 (Dropout)          (None, 512)               0         \n",
      "_________________________________________________________________\n",
      "dense_4 (Dense)              (None, 1)                 513       \n",
      "=================================================================\n",
      "Total params: 1,290,945\n",
      "Trainable params: 1,290,689\n",
      "Non-trainable params: 256\n",
      "_________________________________________________________________\n"
     ]
    }
   ],
   "source": [
    "# previously tuned model\n",
    "from keras import layers \n",
    "from keras import models \n",
    "\n",
    "model = models.Sequential()\n",
    "model.add(layers.Conv2D(32, (3, 3), activation = 'relu', \n",
    "                        input_shape = (IMAGE_SIZE, IMAGE_SIZE, 3)))\n",
    "model.add(layers.MaxPooling2D((2, 2)))\n",
    "model.add(layers.Dropout(0.2))\n",
    "\n",
    "model.add(layers.Conv2D(64, (3, 3), activation = 'relu'))\n",
    "model.add(layers.MaxPooling2D((2, 2)))\n",
    "model.add(layers.Dropout(0.2))\n",
    "\n",
    "model.add(layers.Conv2D(128, (3, 3), activation = 'relu'))\n",
    "model.add(layers.MaxPooling2D((2, 2)))\n",
    "model.add(layers.Conv2D(128, (3, 3), activation = 'relu'))\n",
    "model.add(layers.MaxPooling2D((2, 2)))\n",
    "model.add(layers.Dropout(0.2))\n",
    "model.add(layers.BatchNormalization())\n",
    "\n",
    "model.add(layers.Flatten())\n",
    "model.add(layers.Dense(512, activation = 'relu'))\n",
    "model.add(layers.Dropout(0.2))\n",
    "model.add(layers.Dense(1, activation = 'sigmoid'))\n",
    "\n",
    "    \n",
    "\n",
    "model.summary()"
   ]
  },
  {
   "cell_type": "code",
   "execution_count": 20,
   "metadata": {},
   "outputs": [],
   "source": [
    "from keras import optimizers\n",
    "\n",
    "callback_list = [\n",
    "    keras.callbacks.EarlyStopping(\n",
    "        monitor = 'acc',\n",
    "        patience = 2,\n",
    "    ),\n",
    "    keras.callbacks.ModelCheckpoint(\n",
    "        filepath = 'my_model.h5',\n",
    "        monitor = 'val_loss',\n",
    "        save_best_only = True,\n",
    "    ),\n",
    "    keras.callbacks.ReduceLROnPlateau(\n",
    "        monitor = 'val_loss',\n",
    "        factor = 0.5, \n",
    "        patience = 2,\n",
    "        min_lr=0.000001\n",
    "    )\n",
    "]\n",
    "model.compile(loss = 'binary_crossentropy', \n",
    "             optimizer = optimizers.Adam(lr = 0.001),\n",
    "             metrics = ['acc'])"
   ]
  },
  {
   "cell_type": "code",
   "execution_count": 21,
   "metadata": {},
   "outputs": [
    {
     "name": "stdout",
     "output_type": "stream",
     "text": [
      "Epoch 1/40\n",
      "5501/5501 [==============================] - 1709s 311ms/step - loss: 0.4038 - acc: 0.8208 - val_loss: 0.3772 - val_acc: 0.8378\n",
      "Epoch 2/40\n",
      "5501/5501 [==============================] - 1726s 314ms/step - loss: 0.3182 - acc: 0.8665 - val_loss: 0.3788 - val_acc: 0.8370\n",
      "Epoch 3/40\n",
      "5501/5501 [==============================] - 1735s 315ms/step - loss: 0.2838 - acc: 0.8847 - val_loss: 0.4472 - val_acc: 0.8216\n",
      "Epoch 4/40\n",
      "5501/5501 [==============================] - 1710s 311ms/step - loss: 0.2487 - acc: 0.9005 - val_loss: 0.4601 - val_acc: 0.8163\n",
      "Epoch 5/40\n",
      "5501/5501 [==============================] - 1686s 306ms/step - loss: 0.2378 - acc: 0.9058 - val_loss: 0.7050 - val_acc: 0.7800\n",
      "Epoch 6/40\n",
      "5501/5501 [==============================] - 1728s 314ms/step - loss: 0.2215 - acc: 0.9129 - val_loss: 0.5182 - val_acc: 0.8118\n",
      "Epoch 7/40\n",
      "5501/5501 [==============================] - 1708s 311ms/step - loss: 0.2131 - acc: 0.9172 - val_loss: 0.2593 - val_acc: 0.8994\n",
      "Epoch 8/40\n",
      "5501/5501 [==============================] - 1666s 303ms/step - loss: 0.2109 - acc: 0.9177 - val_loss: 0.4924 - val_acc: 0.8146\n",
      "Epoch 9/40\n",
      "5501/5501 [==============================] - 1659s 302ms/step - loss: 0.2070 - acc: 0.9198 - val_loss: 0.5852 - val_acc: 0.7976\n",
      "Epoch 10/40\n",
      "5501/5501 [==============================] - 1653s 300ms/step - loss: 0.1976 - acc: 0.9233 - val_loss: 0.4922 - val_acc: 0.8332\n",
      "Epoch 11/40\n",
      "5501/5501 [==============================] - 1646s 299ms/step - loss: 0.1938 - acc: 0.9253 - val_loss: 0.4806 - val_acc: 0.8392\n",
      "Epoch 12/40\n",
      "5501/5501 [==============================] - 1641s 298ms/step - loss: 0.1907 - acc: 0.9262 - val_loss: 0.4391 - val_acc: 0.8510\n",
      "Epoch 13/40\n",
      "5501/5501 [==============================] - 1630s 296ms/step - loss: 0.1906 - acc: 0.9260 - val_loss: 0.4360 - val_acc: 0.8489\n",
      "Epoch 14/40\n",
      "5501/5501 [==============================] - 1626s 296ms/step - loss: 0.1861 - acc: 0.9281 - val_loss: 0.5088 - val_acc: 0.8338\n",
      "Epoch 15/40\n",
      "5501/5501 [==============================] - 1634s 297ms/step - loss: 0.1858 - acc: 0.9281 - val_loss: 0.4898 - val_acc: 0.8388\n",
      "Epoch 16/40\n",
      "5501/5501 [==============================] - 1627s 296ms/step - loss: 0.1857 - acc: 0.9278 - val_loss: 0.5173 - val_acc: 0.8315\n"
     ]
    }
   ],
   "source": [
    "history = model.fit_generator(\n",
    "    train_generator, \n",
    "    steps_per_epoch = train_steps, \n",
    "    epochs = 20, \n",
    "    validation_data = validation_generator, \n",
    "    validation_steps = val_steps,\n",
    "    callbacks = callback_list,\n",
    ")"
   ]
  },
  {
   "cell_type": "markdown",
   "metadata": {},
   "source": [
    "#### Saving the model "
   ]
  },
  {
   "cell_type": "code",
   "execution_count": 22,
   "metadata": {},
   "outputs": [],
   "source": [
    "model.save('model-40-epochs.h5')"
   ]
  },
  {
   "cell_type": "markdown",
   "metadata": {},
   "source": [
    "#### Plotting training and validation accuracy and loss "
   ]
  },
  {
   "cell_type": "code",
   "execution_count": 11,
   "metadata": {},
   "outputs": [
    {
     "data": {
      "image/png": "[encoded data removed]",
      "text/plain": [
       "<Figure size 432x288 with 1 Axes>"
      ]
     },
     "metadata": {},
     "output_type": "display_data"
    },
    {
     "data": {
      "image/png": "[encoded data removed]",
      "text/plain": [
       "<Figure size 432x288 with 1 Axes>"
      ]
     },
     "metadata": {},
     "output_type": "display_data"
    }
   ],
   "source": [
    "import matplotlib.pyplot as plt \n",
    "\n",
    "acc = history.history['acc']\n",
    "val_acc = history.history['val_acc']\n",
    "\n",
    "loss = history.history['loss']\n",
    "val_loss = history.history['val_loss']\n",
    "\n",
    "epochs = range(1, len(acc) + 1)\n",
    "\n",
    "plt.plot(epochs, acc, 'bo', label = 'Training acc')\n",
    "plt.plot(epochs, val_acc, 'b', label = 'Validation acc')\n",
    "plt.title('Training and validation accuracy')\n",
    "plt.legend()\n",
    "plt.figure()\n",
    "\n",
    "plt.plot(epochs, loss, 'bo', label = 'Training loss')\n",
    "plt.plot(epochs, val_loss, 'b', label = 'Validation loss')\n",
    "plt.title('Training and validation loss')\n",
    "plt.legend()\n",
    "plt.show()"
   ]
  },
  {
   "cell_type": "markdown",
   "metadata": {},
   "source": [
    "#### Using a pretrained conv-net "
   ]
  },
  {
   "cell_type": "code",
   "execution_count": 9,
   "metadata": {},
   "outputs": [
    {
     "name": "stdout",
     "output_type": "stream",
     "text": [
      "_________________________________________________________________\n",
      "Layer (type)                 Output Shape              Param #   \n",
      "=================================================================\n",
      "input_2 (InputLayer)         (None, 96, 96, 3)         0         \n",
      "_________________________________________________________________\n",
      "block1_conv1 (Conv2D)        (None, 96, 96, 64)        1792      \n",
      "_________________________________________________________________\n",
      "block1_conv2 (Conv2D)        (None, 96, 96, 64)        36928     \n",
      "_________________________________________________________________\n",
      "block1_pool (MaxPooling2D)   (None, 48, 48, 64)        0         \n",
      "_________________________________________________________________\n",
      "block2_conv1 (Conv2D)        (None, 48, 48, 128)       73856     \n",
      "_________________________________________________________________\n",
      "block2_conv2 (Conv2D)        (None, 48, 48, 128)       147584    \n",
      "_________________________________________________________________\n",
      "block2_pool (MaxPooling2D)   (None, 24, 24, 128)       0         \n",
      "_________________________________________________________________\n",
      "block3_conv1 (Conv2D)        (None, 24, 24, 256)       295168    \n",
      "_________________________________________________________________\n",
      "block3_conv2 (Conv2D)        (None, 24, 24, 256)       590080    \n",
      "_________________________________________________________________\n",
      "block3_conv3 (Conv2D)        (None, 24, 24, 256)       590080    \n",
      "_________________________________________________________________\n",
      "block3_pool (MaxPooling2D)   (None, 12, 12, 256)       0         \n",
      "_________________________________________________________________\n",
      "block4_conv1 (Conv2D)        (None, 12, 12, 512)       1180160   \n",
      "_________________________________________________________________\n",
      "block4_conv2 (Conv2D)        (None, 12, 12, 512)       2359808   \n",
      "_________________________________________________________________\n",
      "block4_conv3 (Conv2D)        (None, 12, 12, 512)       2359808   \n",
      "_________________________________________________________________\n",
      "block4_pool (MaxPooling2D)   (None, 6, 6, 512)         0         \n",
      "_________________________________________________________________\n",
      "block5_conv1 (Conv2D)        (None, 6, 6, 512)         2359808   \n",
      "_________________________________________________________________\n",
      "block5_conv2 (Conv2D)        (None, 6, 6, 512)         2359808   \n",
      "_________________________________________________________________\n",
      "block5_conv3 (Conv2D)        (None, 6, 6, 512)         2359808   \n",
      "_________________________________________________________________\n",
      "block5_pool (MaxPooling2D)   (None, 3, 3, 512)         0         \n",
      "=================================================================\n",
      "Total params: 14,714,688\n",
      "Trainable params: 14,714,688\n",
      "Non-trainable params: 0\n",
      "_________________________________________________________________\n"
     ]
    }
   ],
   "source": [
    "from keras.applications import VGG16\n",
    "\n",
    "conv_base = VGG16(\n",
    "    weights = 'imagenet',\n",
    "    include_top = False, \n",
    "    input_shape = (96, 96, 3)\n",
    ")\n",
    "\n",
    "conv_base.summary()"
   ]
  },
  {
   "cell_type": "code",
   "execution_count": 11,
   "metadata": {},
   "outputs": [
    {
     "name": "stdout",
     "output_type": "stream",
     "text": [
      "_________________________________________________________________\n",
      "Layer (type)                 Output Shape              Param #   \n",
      "=================================================================\n",
      "vgg16 (Model)                (None, 3, 3, 512)         14714688  \n",
      "_________________________________________________________________\n",
      "flatten_2 (Flatten)          (None, 4608)              0         \n",
      "_________________________________________________________________\n",
      "dense_2 (Dense)              (None, 512)               2359808   \n",
      "_________________________________________________________________\n",
      "dense_3 (Dense)              (None, 1)                 513       \n",
      "=================================================================\n",
      "Total params: 17,075,009\n",
      "Trainable params: 17,075,009\n",
      "Non-trainable params: 0\n",
      "_________________________________________________________________\n"
     ]
    }
   ],
   "source": [
    "from keras import models\n",
    "from keras import layers\n",
    "\n",
    "model = models.Sequential()\n",
    "model.add(conv_base)\n",
    "model.add(layers.Flatten())\n",
    "model.add(layers.Dense(512, activation = 'relu'))\n",
    "model.add(layers.Dense(1, activation = 'sigmoid'))\n",
    "\n",
    "model.summary()"
   ]
  },
  {
   "cell_type": "markdown",
   "metadata": {},
   "source": [
    "#### Training the last layers in the pretrained network "
   ]
  },
  {
   "cell_type": "code",
   "execution_count": 12,
   "metadata": {},
   "outputs": [
    {
     "name": "stdout",
     "output_type": "stream",
     "text": [
      "Found 176020 images belonging to 2 classes.\n",
      "Found 44005 images belonging to 2 classes.\n"
     ]
    }
   ],
   "source": [
    "from keras.preprocessing.image import ImageDataGenerator\n",
    "\n",
    "IMAGE_SIZE = 96 # nbr of pixels \n",
    "num_train_samples = len(df_train) # nbr of samples to train on\n",
    "num_val_samples = len(df_val) # nbr of samples to perform validation on \n",
    "train_batch_size = 32 # number of samples to train on per epoch\n",
    "val_batch_size = 32 # number of samples to validate on per epoch  \n",
    "\n",
    "train_steps = np.ceil(num_train_samples / train_batch_size) # number of gradient descent steps per epoch\n",
    "val_steps = np.ceil(num_val_samples / val_batch_size) \n",
    "\n",
    "train_datagen = ImageDataGenerator(preprocessing_function=lambda x:(x - x.mean()) / x.std() if x.std() > 0 else x)\n",
    "test_datagen = ImageDataGenerator(preprocessing_function=lambda x:(x - x.mean()) / x.std() if x.std() > 0 else x)\n",
    "\n",
    "train_generator = train_datagen.flow_from_directory(\n",
    "    train_dir, \n",
    "    target_size = (IMAGE_SIZE, IMAGE_SIZE),\n",
    "    batch_size = train_batch_size, \n",
    "    class_mode = 'binary'\n",
    ")\n",
    "\n",
    "validation_generator = test_datagen.flow_from_directory(\n",
    "        validation_dir,\n",
    "        target_size = (IMAGE_SIZE, IMAGE_SIZE),\n",
    "        batch_size = val_batch_size,\n",
    "        class_mode = 'binary'\n",
    ")\n",
    "\n",
    "from keras import optimizers\n",
    "\n",
    "callback_list = [\n",
    "    keras.callbacks.EarlyStopping(\n",
    "        monitor = 'acc',\n",
    "        patience = 5,\n",
    "    ),\n",
    "    keras.callbacks.ModelCheckpoint(\n",
    "        filepath = 'my_model.h5',\n",
    "        monitor = 'val_loss',\n",
    "        save_best_only = True,\n",
    "    ),\n",
    "    keras.callbacks.ReduceLROnPlateau(\n",
    "        monitor = 'val_loss',\n",
    "        factor = 0.5, \n",
    "        patience = 2,\n",
    "        min_lr=0.00001\n",
    "    )\n",
    "]\n"
   ]
  },
  {
   "cell_type": "code",
   "execution_count": 16,
   "metadata": {},
   "outputs": [
    {
     "name": "stdout",
     "output_type": "stream",
     "text": [
      "Epoch 1/20\n",
      "5501/5501 [==============================] - 6618s 1s/step - loss: 0.3385 - acc: 0.8507 - val_loss: 0.3153 - val_acc: 0.8630\n",
      "Epoch 2/20\n",
      "5501/5501 [==============================] - 1420s 258ms/step - loss: 0.3082 - acc: 0.8659 - val_loss: 0.3026 - val_acc: 0.8704\n",
      "Epoch 3/20\n",
      "5501/5501 [==============================] - 1426s 259ms/step - loss: 0.2945 - acc: 0.8734 - val_loss: 0.2932 - val_acc: 0.8744\n",
      "Epoch 4/20\n",
      "5501/5501 [==============================] - 1425s 259ms/step - loss: 0.2834 - acc: 0.8788 - val_loss: 0.2958 - val_acc: 0.8746\n",
      "Epoch 5/20\n",
      "5501/5501 [==============================] - 1409s 256ms/step - loss: 0.2754 - acc: 0.8830 - val_loss: 0.2813 - val_acc: 0.8812\n",
      "Epoch 6/20\n",
      "5501/5501 [==============================] - 1419s 258ms/step - loss: 0.2675 - acc: 0.8871 - val_loss: 0.2773 - val_acc: 0.8839\n",
      "Epoch 7/20\n",
      "5501/5501 [==============================] - 1421s 258ms/step - loss: 0.2610 - acc: 0.8901 - val_loss: 0.2731 - val_acc: 0.8857\n",
      "Epoch 8/20\n",
      "5501/5501 [==============================] - 1422s 258ms/step - loss: 0.2545 - acc: 0.8939 - val_loss: 0.2690 - val_acc: 0.8881\n",
      "Epoch 9/20\n",
      "5501/5501 [==============================] - 1423s 259ms/step - loss: 0.2491 - acc: 0.8965 - val_loss: 0.2686 - val_acc: 0.8876\n",
      "Epoch 10/20\n",
      "5501/5501 [==============================] - 1425s 259ms/step - loss: 0.2443 - acc: 0.8993 - val_loss: 0.2685 - val_acc: 0.8873\n",
      "Epoch 11/20\n",
      "5501/5501 [==============================] - 1421s 258ms/step - loss: 0.2386 - acc: 0.9021 - val_loss: 0.2617 - val_acc: 0.8908\n",
      "Epoch 12/20\n",
      "5501/5501 [==============================] - 1421s 258ms/step - loss: 0.2334 - acc: 0.9041 - val_loss: 0.2587 - val_acc: 0.8916\n",
      "Epoch 13/20\n",
      "5501/5501 [==============================] - 1419s 258ms/step - loss: 0.2290 - acc: 0.9067 - val_loss: 0.2632 - val_acc: 0.8896\n",
      "Epoch 14/20\n",
      "5501/5501 [==============================] - 1418s 258ms/step - loss: 0.2245 - acc: 0.9093 - val_loss: 0.2551 - val_acc: 0.8939\n",
      "Epoch 15/20\n",
      "5501/5501 [==============================] - 1411s 256ms/step - loss: 0.2203 - acc: 0.9108 - val_loss: 0.2702 - val_acc: 0.8864\n",
      "Epoch 16/20\n",
      "5501/5501 [==============================] - 1413s 257ms/step - loss: 0.2162 - acc: 0.9130 - val_loss: 0.2534 - val_acc: 0.8950\n",
      "Epoch 17/20\n",
      "5501/5501 [==============================] - 1415s 257ms/step - loss: 0.2115 - acc: 0.9148 - val_loss: 0.2523 - val_acc: 0.8957\n",
      "Epoch 18/20\n",
      "5501/5501 [==============================] - 1424s 259ms/step - loss: 0.2086 - acc: 0.9168 - val_loss: 0.2520 - val_acc: 0.8962\n",
      "Epoch 19/20\n",
      "5501/5501 [==============================] - 1424s 259ms/step - loss: 0.2039 - acc: 0.9193 - val_loss: 0.2494 - val_acc: 0.8976\n",
      "Epoch 20/20\n",
      "5501/5501 [==============================] - 1420s 258ms/step - loss: 0.2001 - acc: 0.9208 - val_loss: 0.2561 - val_acc: 0.8941\n"
     ]
    }
   ],
   "source": [
    "conv_base.Trainable = False \n",
    "\n",
    "model.compile(loss = 'binary_crossentropy', \n",
    "             optimizer = optimizers.Adam(lr = 0.00001),\n",
    "             metrics = ['acc'])\n",
    "\n",
    "history = model.fit_generator(\n",
    "    train_generator, \n",
    "    steps_per_epoch = train_steps, \n",
    "    epochs = 20, \n",
    "    validation_data = validation_generator, \n",
    "    validation_steps = val_steps,\n",
    "    callbacks = callback_list,\n",
    ")"
   ]
  },
  {
   "cell_type": "code",
   "execution_count": 17,
   "metadata": {},
   "outputs": [],
   "source": [
    "model.save('VGG16-adam-lr-1e-4.h5')"
   ]
  },
  {
   "cell_type": "markdown",
   "metadata": {},
   "source": [
    "### Trying InceptionResNetV2\n"
   ]
  },
  {
   "cell_type": "code",
   "execution_count": 5,
   "metadata": {},
   "outputs": [],
   "source": [
    "from keras.applications.inception_resnet_v2 import InceptionResNetV2\n",
    "\n",
    "conv_base = InceptionResNetV2(\n",
    "    weights = 'imagenet',\n",
    "    include_top = False, \n",
    "    input_shape = (96, 96, 3)\n",
    ")\n",
    "\n",
    "#conv_base.summary()"
   ]
  },
  {
   "cell_type": "code",
   "execution_count": 6,
   "metadata": {},
   "outputs": [
    {
     "name": "stdout",
     "output_type": "stream",
     "text": [
      "_________________________________________________________________\n",
      "Layer (type)                 Output Shape              Param #   \n",
      "=================================================================\n",
      "inception_resnet_v2 (Model)  (None, 1, 1, 1536)        54336736  \n",
      "_________________________________________________________________\n",
      "flatten_1 (Flatten)          (None, 1536)              0         \n",
      "_________________________________________________________________\n",
      "dense_1 (Dense)              (None, 512)               786944    \n",
      "_________________________________________________________________\n",
      "dense_2 (Dense)              (None, 1)                 513       \n",
      "=================================================================\n",
      "Total params: 55,124,193\n",
      "Trainable params: 55,063,649\n",
      "Non-trainable params: 60,544\n",
      "_________________________________________________________________\n"
     ]
    }
   ],
   "source": [
    "from keras import models\n",
    "from keras import layers\n",
    "\n",
    "model = models.Sequential()\n",
    "model.add(conv_base)\n",
    "model.add(layers.Flatten())\n",
    "model.add(layers.Dense(512, activation = 'relu'))\n",
    "model.add(layers.Dense(1, activation = 'sigmoid'))\n",
    "\n",
    "model.summary()"
   ]
  },
  {
   "cell_type": "code",
   "execution_count": 11,
   "metadata": {},
   "outputs": [
    {
     "name": "stdout",
     "output_type": "stream",
     "text": [
      "Found 176020 images belonging to 2 classes.\n",
      "Found 44005 images belonging to 2 classes.\n"
     ]
    }
   ],
   "source": [
    "from keras.preprocessing.image import ImageDataGenerator\n",
    "\n",
    "IMAGE_SIZE = 96 # nbr of pixels \n",
    "num_train_samples = len(df_train) # nbr of samples to train on\n",
    "num_val_samples = len(df_val) # nbr of samples to perform validation on \n",
    "train_batch_size = 32 # number of samples to train on per epoch\n",
    "val_batch_size = 32 # number of samples to validate on per epoch  \n",
    "\n",
    "train_steps = np.ceil(num_train_samples / train_batch_size) # number of gradient descent steps per epoch\n",
    "val_steps = np.ceil(num_val_samples / val_batch_size) \n",
    "\n",
    "train_datagen = ImageDataGenerator(preprocessing_function=lambda x:(x - x.mean()) / x.std() if x.std() > 0 else x)\n",
    "test_datagen = ImageDataGenerator(preprocessing_function=lambda x:(x - x.mean()) / x.std() if x.std() > 0 else x)\n",
    "\n",
    "train_generator = train_datagen.flow_from_directory(\n",
    "    train_dir, \n",
    "    target_size = (IMAGE_SIZE, IMAGE_SIZE),\n",
    "    batch_size = train_batch_size, \n",
    "    class_mode = 'binary'\n",
    ")\n",
    "\n",
    "validation_generator = test_datagen.flow_from_directory(\n",
    "        validation_dir,\n",
    "        target_size = (IMAGE_SIZE, IMAGE_SIZE),\n",
    "        batch_size = val_batch_size,\n",
    "        class_mode = 'binary'\n",
    ")\n",
    "\n",
    "from keras import optimizers\n",
    "\n",
    "callback_list = [\n",
    "    keras.callbacks.EarlyStopping(\n",
    "        monitor = 'acc',\n",
    "        patience = 4,\n",
    "    ),\n",
    "    keras.callbacks.ModelCheckpoint(\n",
    "        filepath = 'my_model.h5',\n",
    "        monitor = 'val_loss',\n",
    "        save_best_only = True,\n",
    "    ),\n",
    "    keras.callbacks.ReduceLROnPlateau(\n",
    "        monitor = 'val_loss',\n",
    "        factor = 0.5, \n",
    "        patience = 2,\n",
    "        min_lr=0.000001\n",
    "    )\n",
    "]"
   ]
  },
  {
   "cell_type": "code",
   "execution_count": 12,
   "metadata": {},
   "outputs": [
    {
     "name": "stdout",
     "output_type": "stream",
     "text": [
      "Epoch 1/20\n",
      "5501/5501 [==============================] - 3345s 608ms/step - loss: 0.2544 - acc: 0.8975 - val_loss: 0.4098 - val_acc: 0.8167\n",
      "Epoch 2/20\n",
      "5501/5501 [==============================] - 3269s 594ms/step - loss: 0.3429 - acc: 0.8555 - val_loss: 0.3364 - val_acc: 0.8564\n",
      "Epoch 3/20\n",
      "5501/5501 [==============================] - 3266s 594ms/step - loss: 0.2578 - acc: 0.8965 - val_loss: 0.3846 - val_acc: 0.8388\n",
      "Epoch 4/20\n",
      "5501/5501 [==============================] - 3235s 588ms/step - loss: 0.2757 - acc: 0.8875 - val_loss: 0.4628 - val_acc: 0.8325\n",
      "Epoch 5/20\n",
      "5501/5501 [==============================] - 3241s 589ms/step - loss: 0.2312 - acc: 0.9084 - val_loss: 0.2096 - val_acc: 0.9213\n",
      "Epoch 6/20\n",
      "5501/5501 [==============================] - 3275s 595ms/step - loss: 0.1961 - acc: 0.9248 - val_loss: 0.2239 - val_acc: 0.9199\n",
      "Epoch 7/20\n",
      "5501/5501 [==============================] - 3297s 599ms/step - loss: 0.1958 - acc: 0.9243 - val_loss: 0.2232 - val_acc: 0.9322\n",
      "Epoch 8/20\n",
      "5501/5501 [==============================] - 3293s 599ms/step - loss: 0.1742 - acc: 0.9327 - val_loss: 0.1868 - val_acc: 0.9382\n",
      "Epoch 9/20\n",
      "5501/5501 [==============================] - 3299s 600ms/step - loss: 0.1560 - acc: 0.9413 - val_loss: 0.1749 - val_acc: 0.9409\n",
      "Epoch 10/20\n",
      "5501/5501 [==============================] - 3296s 599ms/step - loss: 0.1474 - acc: 0.9445 - val_loss: 0.1616 - val_acc: 0.9432\n",
      "Epoch 11/20\n",
      "5501/5501 [==============================] - 3301s 600ms/step - loss: 0.1363 - acc: 0.9489 - val_loss: 0.1550 - val_acc: 0.9459\n",
      "Epoch 12/20\n",
      "5501/5501 [==============================] - 3308s 601ms/step - loss: 0.1380 - acc: 0.9482 - val_loss: 0.4441 - val_acc: 0.9260\n",
      "Epoch 13/20\n",
      "5501/5501 [==============================] - 3304s 601ms/step - loss: 0.1717 - acc: 0.9339 - val_loss: 0.2777 - val_acc: 0.9009\n",
      "Epoch 14/20\n",
      "5501/5501 [==============================] - 3294s 599ms/step - loss: 0.1468 - acc: 0.9446 - val_loss: 0.1530 - val_acc: 0.9440\n",
      "Epoch 15/20\n",
      "5501/5501 [==============================] - 3303s 600ms/step - loss: 0.1306 - acc: 0.9517 - val_loss: 0.4348 - val_acc: 0.9237\n",
      "Epoch 16/20\n",
      "5501/5501 [==============================] - 3299s 600ms/step - loss: 0.1248 - acc: 0.9539 - val_loss: 0.2551 - val_acc: 0.9051\n",
      "Epoch 17/20\n",
      "5501/5501 [==============================] - 3306s 601ms/step - loss: 0.1176 - acc: 0.9562 - val_loss: 0.1535 - val_acc: 0.9462\n",
      "Epoch 18/20\n",
      "5501/5501 [==============================] - 3300s 600ms/step - loss: 0.1175 - acc: 0.9564 - val_loss: 0.1555 - val_acc: 0.9447\n",
      "Epoch 19/20\n",
      "5501/5501 [==============================] - 3304s 601ms/step - loss: 0.1156 - acc: 0.9570 - val_loss: 0.1492 - val_acc: 0.9466\n",
      "Epoch 20/20\n",
      "5501/5501 [==============================] - 3307s 601ms/step - loss: 0.1135 - acc: 0.9582 - val_loss: 0.1593 - val_acc: 0.9453\n"
     ]
    }
   ],
   "source": [
    "conv_base.Trainable = False \n",
    "\n",
    "model.compile(loss = 'binary_crossentropy', \n",
    "             optimizer = optimizers.Adam(lr = 0.001),\n",
    "             metrics = ['acc'])\n",
    "\n",
    "\n",
    "history = model.fit_generator(\n",
    "    train_generator, \n",
    "    steps_per_epoch = train_steps, \n",
    "    epochs = 20, \n",
    "    validation_data = validation_generator, \n",
    "    validation_steps = val_steps,\n",
    "    callbacks = callback_list,\n",
    ")"
   ]
  },
  {
   "cell_type": "code",
   "execution_count": 13,
   "metadata": {},
   "outputs": [],
   "source": [
    "model.save('INCEPTION-adam-lr-1e-3.h5')"
   ]
  },
  {
   "cell_type": "markdown",
   "metadata": {},
   "source": [
    "#### Loading model "
   ]
  },
  {
   "cell_type": "code",
   "execution_count": 12,
   "metadata": {},
   "outputs": [],
   "source": [
    "from keras.models import load_model\n",
    "\n",
    "model = load_model('model-lr-0-001.h5')"
   ]
  },
  {
   "cell_type": "markdown",
   "metadata": {},
   "source": [
    "#### Predict on validation data "
   ]
  },
  {
   "cell_type": "code",
   "execution_count": 1,
   "metadata": {},
   "outputs": [
    {
     "ename": "NameError",
     "evalue": "name 'test_datagen' is not defined",
     "output_type": "error",
     "traceback": [
      "\u001b[0;31m---------------------------------------------------------------------------\u001b[0m",
      "\u001b[0;31mNameError\u001b[0m                                 Traceback (most recent call last)",
      "\u001b[0;32m<ipython-input-1-81811da10e62>\u001b[0m in \u001b[0;36m<module>\u001b[0;34m\u001b[0m\n\u001b[1;32m      1\u001b[0m \u001b[0;31m# predict on validation data - create new data generator that points to validation directory\u001b[0m\u001b[0;34m\u001b[0m\u001b[0;34m\u001b[0m\u001b[0m\n\u001b[1;32m      2\u001b[0m \u001b[0;34m\u001b[0m\u001b[0m\n\u001b[0;32m----> 3\u001b[0;31m test_gen = test_datagen.flow_from_directory(\n\u001b[0m\u001b[1;32m      4\u001b[0m     \u001b[0mvalidation_dir\u001b[0m\u001b[0;34m,\u001b[0m\u001b[0;34m\u001b[0m\u001b[0m\n\u001b[1;32m      5\u001b[0m     \u001b[0mtarget_size\u001b[0m  \u001b[0;34m=\u001b[0m \u001b[0;34m(\u001b[0m\u001b[0mIMAGE_SIZE\u001b[0m\u001b[0;34m,\u001b[0m \u001b[0mIMAGE_SIZE\u001b[0m\u001b[0;34m)\u001b[0m\u001b[0;34m,\u001b[0m\u001b[0;34m\u001b[0m\u001b[0m\n",
      "\u001b[0;31mNameError\u001b[0m: name 'test_datagen' is not defined"
     ]
    }
   ],
   "source": [
    "# predict on validation data - create new data generator that points to validation directory \n",
    "\n",
    "test_gen = test_datagen.flow_from_directory(\n",
    "    validation_dir, \n",
    "    target_size  = (IMAGE_SIZE, IMAGE_SIZE),\n",
    "    batch_size = 1,\n",
    "    class_mode = 'binary',\n",
    "    shuffle = False\n",
    "\n",
    ")\n",
    "\n",
    "predictions = model.predict_generator(test_gen, steps = len(df_val), verbose = 1)"
   ]
  },
  {
   "cell_type": "markdown",
   "metadata": {},
   "source": [
    "#### Validation using ROC AUC and precision & recall \n",
    "\n",
    "1. __Precision__\n",
    "_calculates the accuracy of the positive predictions of the classifier and is defined as_ \n",
    "\n",
    "$$\\frac{TP}{TP + FP}$$\n",
    "\n",
    "2. __Recall__\n",
    "_the sensitivity (true positive rate) of the classifier and is defined as_\n",
    "\n",
    "$$\\frac{TP}{TP + FN}$$\n",
    "\n",
    "3. The harmonic mean of precision and recall is called the F1-score and it is defined as\n",
    "\n",
    "$$ 2* \\frac{precision * recall}{precision + recall}$$\n",
    "\n",
    "4. The ROC curve \n",
    "\n",
    "_Reciever operating characteristic (ROC) plots the true positive rate (recall) against false positive rate i.e. the ratio of negative instances that are incorrectly classified as positive. Equal to 1 - true negative rate which is the ratio of negative instances correctly classified as negative_\n",
    "\n",
    "5. AUC ROC \n",
    "\n",
    "_The area under the ROC curve_"
   ]
  },
  {
   "cell_type": "markdown",
   "metadata": {},
   "source": [
    "#### AUC ROC evaluation "
   ]
  },
  {
   "cell_type": "code",
   "execution_count": 26,
   "metadata": {},
   "outputs": [],
   "source": [
    "# get the true classes \n",
    "\n",
    "true_targets = test_gen.classes"
   ]
  },
  {
   "cell_type": "code",
   "execution_count": 27,
   "metadata": {},
   "outputs": [
    {
     "data": {
      "text/plain": [
       "0.9698984620108524"
      ]
     },
     "execution_count": 27,
     "metadata": {},
     "output_type": "execute_result"
    }
   ],
   "source": [
    "from sklearn.metrics import roc_auc_score\n",
    "\n",
    "roc_auc_score(true_targets, predictions)"
   ]
  },
  {
   "cell_type": "code",
   "execution_count": 28,
   "metadata": {},
   "outputs": [
    {
     "name": "stdout",
     "output_type": "stream",
     "text": [
      "              precision    recall  f1-score   support\n",
      "\n",
      "           0       0.92      0.94      0.93     26193\n",
      "           1       0.91      0.88      0.89     17812\n",
      "\n",
      "   micro avg       0.92      0.92      0.92     44005\n",
      "   macro avg       0.91      0.91      0.91     44005\n",
      "weighted avg       0.92      0.92      0.92     44005\n",
      "\n"
     ]
    }
   ],
   "source": [
    "# classification report \n",
    "\n",
    "pred_binary = np.round(predictions)\n",
    "\n",
    "from sklearn.metrics import classification_report\n",
    "\n",
    "report = classification_report(true_targets, pred_binary)\n",
    "\n",
    "print(report)"
   ]
  },
  {
   "cell_type": "markdown",
   "metadata": {},
   "source": [
    "#### Making kaggle submission "
   ]
  },
  {
   "cell_type": "code",
   "execution_count": 14,
   "metadata": {},
   "outputs": [
    {
     "name": "stdout",
     "output_type": "stream",
     "text": [
      "Found 57458 images belonging to 1 classes.\n"
     ]
    }
   ],
   "source": [
    "# predict on test data \n",
    "test_set_dir = '/home/knajf/test/'\n",
    "\n",
    "test_data_generator = test_datagen.flow_from_directory(\n",
    "        test_set_dir,\n",
    "        target_size = (IMAGE_SIZE, IMAGE_SIZE),\n",
    "        batch_size = 1,\n",
    "        class_mode = 'binary',\n",
    "        shuffle = False \n",
    ")\n",
    "\n"
   ]
  },
  {
   "cell_type": "code",
   "execution_count": 16,
   "metadata": {},
   "outputs": [],
   "source": [
    "# load weights from best epoch \n",
    "\n",
    "model.load_weights('INCEPTION-adam-lr-1e-3.h5')"
   ]
  },
  {
   "cell_type": "code",
   "execution_count": 17,
   "metadata": {},
   "outputs": [
    {
     "name": "stdout",
     "output_type": "stream",
     "text": [
      "57458/57458 [==============================] - 5476s 95ms/step\n"
     ]
    }
   ],
   "source": [
    "test_predictions = model.predict_generator(test_data_generator, steps = 57458, verbose = 1)"
   ]
  },
  {
   "cell_type": "code",
   "execution_count": 18,
   "metadata": {},
   "outputs": [],
   "source": [
    "filenames = test_data_generator.filenames\n",
    "\n",
    "id = [fname.split('/')[-1].split('.')[0] for fname in filenames]\n",
    "\n",
    "submission_df = pd.DataFrame({'id':id, \n",
    "                           'label':test_predictions.reshape(-1), \n",
    "                          }).set_index('id')\n"
   ]
  },
  {
   "cell_type": "code",
   "execution_count": 19,
   "metadata": {},
   "outputs": [],
   "source": [
    "submission_df.to_csv('histo-data-inception.csv', columns=['label']) "
   ]
  },
  {
   "cell_type": "code",
   "execution_count": 70,
   "metadata": {},
   "outputs": [
    {
     "name": "stdout",
     "output_type": "stream",
     "text": [
      "/home/jupyter\n"
     ]
    }
   ],
   "source": [
    "# get current path\n",
    "\n",
    "print(os.getcwd())"
   ]
  }
 ],
 "metadata": {
  "kernelspec": {
   "display_name": "Python 3",
   "language": "python",
   "name": "python3"
  },
  "language_info": {
   "codemirror_mode": {
    "name": "ipython",
    "version": 3
   },
   "file_extension": ".py",
   "mimetype": "text/x-python",
   "name": "python",
   "nbconvert_exporter": "python",
   "pygments_lexer": "ipython3",
   "version": "3.5.3"
  }
 },
 "nbformat": 4,
 "nbformat_minor": 2
}
