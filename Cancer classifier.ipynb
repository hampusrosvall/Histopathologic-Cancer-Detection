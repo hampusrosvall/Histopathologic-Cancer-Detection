{
 "cells": [
  {
   "cell_type": "markdown",
   "metadata": {},
   "source": [
    "#### Importing packages "
   ]
  },
  {
   "cell_type": "code",
   "execution_count": 16,
   "metadata": {},
   "outputs": [],
   "source": [
    "import keras\n",
    "import tensorflow as tf\n",
    "import numpy as np\n",
    "import pandas as pd\n",
    "import os, shutil\n",
    "from glob import glob\n",
    "\n",
    "from sklearn.model_selection import train_test_split"
   ]
  },
  {
   "cell_type": "markdown",
   "metadata": {},
   "source": [
    "#### Code to create DataFrames to map path to images with labels "
   ]
  },
  {
   "cell_type": "code",
   "execution_count": 17,
   "metadata": {},
   "outputs": [],
   "source": [
    "# creating dataframe with the path and image id \n",
    "\n",
    "train_origin_dir = '/home/knajf/train'\n",
    "test_origin_dir = '/home/knajf/datasets/cancer/test'\n",
    "df = pd.DataFrame({'path': glob(os.path.join(train_origin_dir,'*.tif'))})\n",
    "\n",
    "# accessing the id of the image \n",
    "df['id'] = df.path.map(\n",
    "    lambda x: x.split('/')[-1].split('.')[0]\n",
    ")\n",
    "\n",
    "# importing the labels and merging on 'id' column \n",
    "label_path = os.path.join('/home/knajf/datasets/cancer', 'train_labels.csv')\n",
    "df_labels = pd.read_csv(filepath_or_buffer = label_path)\n",
    "df = df.merge(df_labels, on = 'id')"
   ]
  },
  {
   "cell_type": "code",
   "execution_count": 18,
   "metadata": {},
   "outputs": [
    {
     "data": {
      "text/html": [
       "<div>\n",
       "<style scoped>\n",
       "    .dataframe tbody tr th:only-of-type {\n",
       "        vertical-align: middle;\n",
       "    }\n",
       "\n",
       "    .dataframe tbody tr th {\n",
       "        vertical-align: top;\n",
       "    }\n",
       "\n",
       "    .dataframe thead th {\n",
       "        text-align: right;\n",
       "    }\n",
       "</style>\n",
       "<table border=\"1\" class=\"dataframe\">\n",
       "  <thead>\n",
       "    <tr style=\"text-align: right;\">\n",
       "      <th></th>\n",
       "      <th>path</th>\n",
       "      <th>id</th>\n",
       "      <th>label</th>\n",
       "    </tr>\n",
       "  </thead>\n",
       "  <tbody>\n",
       "    <tr>\n",
       "      <th>0</th>\n",
       "      <td>/home/knajf/train/3297847a5ddca221a06b8562e7ca...</td>\n",
       "      <td>3297847a5ddca221a06b8562e7ca9f72f683c48d</td>\n",
       "      <td>1</td>\n",
       "    </tr>\n",
       "    <tr>\n",
       "      <th>1</th>\n",
       "      <td>/home/knajf/train/c7ad5078e1a5fc2f653caf53beb3...</td>\n",
       "      <td>c7ad5078e1a5fc2f653caf53beb32dbbd42cd840</td>\n",
       "      <td>1</td>\n",
       "    </tr>\n",
       "    <tr>\n",
       "      <th>2</th>\n",
       "      <td>/home/knajf/train/d83605d3ea636c23cb60668e6068...</td>\n",
       "      <td>d83605d3ea636c23cb60668e6068bb7a8f130492</td>\n",
       "      <td>0</td>\n",
       "    </tr>\n",
       "    <tr>\n",
       "      <th>3</th>\n",
       "      <td>/home/knajf/train/48aea54e6e1e1c1d99605cafe1f0...</td>\n",
       "      <td>48aea54e6e1e1c1d99605cafe1f0f4326060599a</td>\n",
       "      <td>0</td>\n",
       "    </tr>\n",
       "    <tr>\n",
       "      <th>4</th>\n",
       "      <td>/home/knajf/train/8a5cf51ca7c1c39f8154e644240a...</td>\n",
       "      <td>8a5cf51ca7c1c39f8154e644240a45b5795920a6</td>\n",
       "      <td>0</td>\n",
       "    </tr>\n",
       "  </tbody>\n",
       "</table>\n",
       "</div>"
      ],
      "text/plain": [
       "                                                path  \\\n",
       "0  /home/knajf/train/3297847a5ddca221a06b8562e7ca...   \n",
       "1  /home/knajf/train/c7ad5078e1a5fc2f653caf53beb3...   \n",
       "2  /home/knajf/train/d83605d3ea636c23cb60668e6068...   \n",
       "3  /home/knajf/train/48aea54e6e1e1c1d99605cafe1f0...   \n",
       "4  /home/knajf/train/8a5cf51ca7c1c39f8154e644240a...   \n",
       "\n",
       "                                         id  label  \n",
       "0  3297847a5ddca221a06b8562e7ca9f72f683c48d      1  \n",
       "1  c7ad5078e1a5fc2f653caf53beb32dbbd42cd840      1  \n",
       "2  d83605d3ea636c23cb60668e6068bb7a8f130492      0  \n",
       "3  48aea54e6e1e1c1d99605cafe1f0f4326060599a      0  \n",
       "4  8a5cf51ca7c1c39f8154e644240a45b5795920a6      0  "
      ]
     },
     "execution_count": 18,
     "metadata": {},
     "output_type": "execute_result"
    }
   ],
   "source": [
    "df.head()"
   ]
  },
  {
   "cell_type": "markdown",
   "metadata": {},
   "source": [
    "#### Train-test split "
   ]
  },
  {
   "cell_type": "code",
   "execution_count": 19,
   "metadata": {},
   "outputs": [],
   "source": [
    "# train-val split \n",
    "\n",
    "df_train, df_val = train_test_split(df, test_size = 0.20, shuffle = True)"
   ]
  },
  {
   "cell_type": "code",
   "execution_count": 20,
   "metadata": {},
   "outputs": [
    {
     "name": "stdout",
     "output_type": "stream",
     "text": [
      "176020\n",
      "44005\n"
     ]
    }
   ],
   "source": [
    "# santity check \n",
    "\n",
    "print(len(df_train))\n",
    "print(len(df_val))"
   ]
  },
  {
   "cell_type": "markdown",
   "metadata": {},
   "source": [
    "#### Code to run first time to create folders "
   ]
  },
  {
   "cell_type": "code",
   "execution_count": 17,
   "metadata": {},
   "outputs": [],
   "source": [
    "# creating dataset foler \n",
    "\n",
    "dataset_folder = os.path.join(os.getcwd(), 'datasets')\n",
    "os.mkdir(dataset_folder)"
   ]
  },
  {
   "cell_type": "code",
   "execution_count": 18,
   "metadata": {},
   "outputs": [],
   "source": [
    "# creating histopathologic folder \n",
    "\n",
    "hist_folder = os.path.join(dataset_folder, 'histopathologic')\n",
    "os.mkdir(hist_folder)"
   ]
  },
  {
   "cell_type": "code",
   "execution_count": 19,
   "metadata": {},
   "outputs": [],
   "source": [
    "base_dir = hist_folder\n",
    "\n",
    "# creating training directory \n",
    "train_dir = os.path.join(base_dir, 'train')\n",
    "os.mkdir(train_dir)\n",
    "\n",
    "# creating validation directory \n",
    "validation_dir = os.path.join(base_dir, 'validation')\n",
    "os.mkdir(validation_dir)\n",
    "\n",
    "# creating test directory \n",
    "test_dir = os.path.join(base_dir, 'test')\n",
    "os.mkdir(test_dir)\n",
    "\n",
    "# creating binary class directories on training and validation paths \n",
    "train_val_paths = [train_dir, validation_dir]\n",
    "for folder in train_val_paths: \n",
    "    for subfolder in ['0', '1']: \n",
    "        os.mkdir(os.path.join(folder, subfolder))"
   ]
  },
  {
   "cell_type": "markdown",
   "metadata": {},
   "source": [
    "#### When data is in folders run this code to init paths "
   ]
  },
  {
   "cell_type": "code",
   "execution_count": 21,
   "metadata": {},
   "outputs": [],
   "source": [
    "# init paths\n",
    "dataset_folder = os.path.join(os.getcwd(), 'datasets')\n",
    "hist_folder = os.path.join(dataset_folder, 'histopathologic')\n",
    "base_dir = hist_folder\n",
    "train_dir = os.path.join(base_dir, 'train')\n",
    "validation_dir = os.path.join(base_dir, 'validation')\n",
    "test_dir = os.path.join(base_dir, 'test')"
   ]
  },
  {
   "cell_type": "markdown",
   "metadata": {},
   "source": [
    "#### Code to add data to designated folders "
   ]
  },
  {
   "cell_type": "code",
   "execution_count": 25,
   "metadata": {},
   "outputs": [],
   "source": [
    "# adding training set data to folders \n",
    "\n",
    "for entry in df_train['id']: \n",
    "    # get label \n",
    "    label = df_train.loc[df_train.id == entry].label.values[0]\n",
    "    \n",
    "    # add '.tif' to end \n",
    "    fname = entry + '.tif'\n",
    "    \n",
    "    # copy from source to input/train/label folder\n",
    "    label_folder = os.path.join(train_dir, str(label))\n",
    "    src = os.path.join(train_origin_dir, fname)\n",
    "    dst = os.path.join(label_folder, fname)\n",
    "    shutil.copyfile(src, dst)"
   ]
  },
  {
   "cell_type": "code",
   "execution_count": 26,
   "metadata": {},
   "outputs": [],
   "source": [
    "# adding validation set data to folders\n",
    "\n",
    "for entry in df_val['id']: \n",
    "    # get label \n",
    "    label = df_val.loc[df_val.id == entry].label.values[0]\n",
    "    \n",
    "    # add '.tif' to end \n",
    "    fname = entry + '.tif'\n",
    "    \n",
    "    # copy from source to input/train/label folder\n",
    "    label_folder = os.path.join(validation_dir, str(label))\n",
    "    src = os.path.join(train_origin_dir, fname)\n",
    "    dst = os.path.join(label_folder, fname)\n",
    "    shutil.copyfile(src, dst)"
   ]
  },
  {
   "cell_type": "code",
   "execution_count": 27,
   "metadata": {},
   "outputs": [
    {
     "name": "stdout",
     "output_type": "stream",
     "text": [
      "total training images labeled 0:  104715\n",
      "total training images labeled 1:  71305\n",
      "total validation images labeled 0:  26193\n",
      "total validation images labeled 1:  17812\n",
      "total number of images:  220025\n"
     ]
    }
   ],
   "source": [
    "print('total training images labeled 0: ', len(os.listdir(os.path.join(train_dir, '0'))))\n",
    "print('total training images labeled 1: ', len(os.listdir(os.path.join(train_dir, '1'))))\n",
    "print('total validation images labeled 0: ', len(os.listdir(os.path.join(validation_dir, '0'))))\n",
    "print('total validation images labeled 1: ', len(os.listdir(os.path.join(validation_dir, '1'))))\n",
    "print('total number of images: ', len(os.listdir(os.path.join(train_dir, '0'))) + \n",
    "      len(os.listdir(os.path.join(train_dir, '1'))) + \n",
    "      len(os.listdir(os.path.join(validation_dir, '0'))) + \n",
    "      len(os.listdir(os.path.join(validation_dir, '1'))))"
   ]
  },
  {
   "cell_type": "markdown",
   "metadata": {},
   "source": [
    "#### Initialize ImageDataGenerator "
   ]
  },
  {
   "cell_type": "code",
   "execution_count": 22,
   "metadata": {},
   "outputs": [
    {
     "name": "stdout",
     "output_type": "stream",
     "text": [
      "Found 176020 images belonging to 2 classes.\n",
      "Found 44005 images belonging to 2 classes.\n"
     ]
    }
   ],
   "source": [
    "from keras.preprocessing.image import ImageDataGenerator\n",
    "\n",
    "IMAGE_SIZE = 96 # nbr of pixels \n",
    "num_train_samples = len(df_train) # nbr of samples to train on\n",
    "num_val_samples = len(df_val) # nbr of samples to perform validation on \n",
    "train_batch_size = 32 # number of samples to train on per epoch\n",
    "val_batch_size = 32 # number of samples to validate on per epoch  \n",
    "\n",
    "train_steps = np.ceil(num_train_samples / train_batch_size) # number of gradient descent steps per epoch\n",
    "val_steps = np.ceil(num_val_samples / val_batch_size) \n",
    "\n",
    "train_datagen = ImageDataGenerator(rescale = 1./255)\n",
    "test_datagen = ImageDataGenerator(rescale = 1./255)\n",
    "\n",
    "train_generator = train_datagen.flow_from_directory(\n",
    "    train_dir, \n",
    "    target_size = (IMAGE_SIZE, IMAGE_SIZE),\n",
    "    batch_size = train_batch_size, \n",
    "    class_mode = 'binary'\n",
    ")\n",
    "\n",
    "validation_generator = test_datagen.flow_from_directory(\n",
    "        validation_dir,\n",
    "        target_size = (IMAGE_SIZE, IMAGE_SIZE),\n",
    "        batch_size = val_batch_size,\n",
    "        class_mode = 'binary'\n",
    ")"
   ]
  },
  {
   "cell_type": "code",
   "execution_count": 41,
   "metadata": {},
   "outputs": [
    {
     "name": "stdout",
     "output_type": "stream",
     "text": [
      "_________________________________________________________________\n",
      "Layer (type)                 Output Shape              Param #   \n",
      "=================================================================\n",
      "conv2d_28 (Conv2D)           (None, 94, 94, 32)        896       \n",
      "_________________________________________________________________\n",
      "max_pooling2d_21 (MaxPooling (None, 47, 47, 32)        0         \n",
      "_________________________________________________________________\n",
      "conv2d_29 (Conv2D)           (None, 45, 45, 64)        18496     \n",
      "_________________________________________________________________\n",
      "max_pooling2d_22 (MaxPooling (None, 22, 22, 64)        0         \n",
      "_________________________________________________________________\n",
      "conv2d_30 (Conv2D)           (None, 20, 20, 128)       73856     \n",
      "_________________________________________________________________\n",
      "max_pooling2d_23 (MaxPooling (None, 10, 10, 128)       0         \n",
      "_________________________________________________________________\n",
      "conv2d_31 (Conv2D)           (None, 8, 8, 128)         147584    \n",
      "_________________________________________________________________\n",
      "max_pooling2d_24 (MaxPooling (None, 4, 4, 128)         0         \n",
      "_________________________________________________________________\n",
      "flatten_6 (Flatten)          (None, 2048)              0         \n",
      "_________________________________________________________________\n",
      "dense_11 (Dense)             (None, 512)               1049088   \n",
      "_________________________________________________________________\n",
      "dropout_18 (Dropout)         (None, 512)               0         \n",
      "_________________________________________________________________\n",
      "dense_12 (Dense)             (None, 1)                 513       \n",
      "=================================================================\n",
      "Total params: 1,290,433\n",
      "Trainable params: 1,290,433\n",
      "Non-trainable params: 0\n",
      "_________________________________________________________________\n"
     ]
    }
   ],
   "source": [
    "from keras import layers \n",
    "from keras import models \n",
    "\n",
    "model = models.Sequential()\n",
    "model.add(layers.Conv2D(32, (3, 3), activation = 'relu', \n",
    "                        input_shape = (IMAGE_SIZE, IMAGE_SIZE, 3)))\n",
    "model.add(layers.MaxPooling2D((2, 2)))\n",
    "\n",
    "model.add(layers.Conv2D(64, (3, 3), activation = 'relu'))\n",
    "model.add(layers.MaxPooling2D((2, 2)))\n",
    "\n",
    "model.add(layers.Conv2D(128, (3, 3), activation = 'relu'))\n",
    "model.add(layers.MaxPooling2D((2, 2)))\n",
    "model.add(layers.Conv2D(128, (3, 3), activation = 'relu'))\n",
    "model.add(layers.MaxPooling2D((2, 2)))\n",
    "\n",
    "model.add(layers.Flatten())\n",
    "model.add(layers.Dense(512, activation = 'relu'))\n",
    "model.add(layers.Dropout(0.2))\n",
    "model.add(layers.Dense(1, activation = 'sigmoid'))\n",
    "\n",
    "    \n",
    "\n",
    "model.summary()"
   ]
  },
  {
   "cell_type": "code",
   "execution_count": 42,
   "metadata": {},
   "outputs": [],
   "source": [
    "from keras import optimizers\n",
    "\n",
    "callback_list = [\n",
    "    keras.callbacks.EarlyStopping(\n",
    "        monitor = 'acc',\n",
    "        patience = 5,\n",
    "    ),\n",
    "    keras.callbacks.ModelCheckpoint(\n",
    "        filepath = 'my_model.h5',\n",
    "        monitor = 'val_loss',\n",
    "        save_best_only = True,\n",
    "    ),\n",
    "    keras.callbacks.ReduceLROnPlateau(\n",
    "        monitor = 'val_loss',\n",
    "        factor = 0.1, \n",
    "        patience = 1,\n",
    "    )\n",
    "]\n",
    "model.compile(loss = 'binary_crossentropy', \n",
    "             optimizer = optimizers.RMSprop(lr = 1e-4),\n",
    "             metrics = ['acc'])"
   ]
  },
  {
   "cell_type": "code",
   "execution_count": 43,
   "metadata": {},
   "outputs": [
    {
     "name": "stdout",
     "output_type": "stream",
     "text": [
      "Epoch 1/10\n",
      "5501/5501 [==============================] - 1279s 233ms/step - loss: 0.4375 - acc: 0.8001 - val_loss: 0.3695 - val_acc: 0.8373\n",
      "Epoch 2/10\n",
      "5501/5501 [==============================] - 1278s 232ms/step - loss: 0.3519 - acc: 0.8473 - val_loss: 0.3497 - val_acc: 0.8408\n",
      "Epoch 3/10\n",
      "5501/5501 [==============================] - 1285s 234ms/step - loss: 0.3127 - acc: 0.8693 - val_loss: 0.2909 - val_acc: 0.8811\n",
      "Epoch 4/10\n",
      "5501/5501 [==============================] - 1288s 234ms/step - loss: 0.2932 - acc: 0.8802 - val_loss: 0.3167 - val_acc: 0.8667\n",
      "Epoch 5/10\n",
      "5501/5501 [==============================] - 1283s 233ms/step - loss: 0.2320 - acc: 0.9081 - val_loss: 0.2320 - val_acc: 0.9076\n",
      "Epoch 6/10\n",
      "5501/5501 [==============================] - 1282s 233ms/step - loss: 0.2249 - acc: 0.9113 - val_loss: 0.2256 - val_acc: 0.9114\n",
      "Epoch 7/10\n",
      "5501/5501 [==============================] - 1265s 230ms/step - loss: 0.2197 - acc: 0.9143 - val_loss: 0.2246 - val_acc: 0.9126\n",
      "Epoch 8/10\n",
      "5501/5501 [==============================] - 1286s 234ms/step - loss: 0.2177 - acc: 0.9150 - val_loss: 0.2279 - val_acc: 0.9091\n",
      "Epoch 9/10\n",
      "5501/5501 [==============================] - 1277s 232ms/step - loss: 0.2088 - acc: 0.9189 - val_loss: 0.2174 - val_acc: 0.9147\n",
      "Epoch 10/10\n",
      "5501/5501 [==============================] - 1273s 231ms/step - loss: 0.2077 - acc: 0.9189 - val_loss: 0.2164 - val_acc: 0.9156\n"
     ]
    }
   ],
   "source": [
    "history = model.fit_generator(\n",
    "    train_generator, \n",
    "    steps_per_epoch = train_steps, \n",
    "    epochs = 10, \n",
    "    validation_data = validation_generator, \n",
    "    validation_steps = val_steps,\n",
    "    callbacks = callback_list,\n",
    ")"
   ]
  },
  {
   "cell_type": "markdown",
   "metadata": {},
   "source": [
    "#### Saving the model "
   ]
  },
  {
   "cell_type": "code",
   "execution_count": 52,
   "metadata": {},
   "outputs": [],
   "source": [
    "model.save('model-2.h5')"
   ]
  },
  {
   "cell_type": "markdown",
   "metadata": {},
   "source": [
    "#### Plotting training and validation accuracy and loss "
   ]
  },
  {
   "cell_type": "code",
   "execution_count": 46,
   "metadata": {},
   "outputs": [
    {
     "data": {
      "image/png": "[encoded data removed]",
      "text/plain": [
       "<Figure size 432x288 with 1 Axes>"
      ]
     },
     "metadata": {},
     "output_type": "display_data"
    },
    {
     "data": {
      "image/png": "[encoded data removed]",
      "text/plain": [
       "<Figure size 432x288 with 1 Axes>"
      ]
     },
     "metadata": {},
     "output_type": "display_data"
    }
   ],
   "source": [
    "import matplotlib.pyplot as plt \n",
    "\n",
    "acc = history.history['acc']\n",
    "val_acc = history.history['val_acc']\n",
    "\n",
    "loss = history.history['loss']\n",
    "val_loss = history.history['val_loss']\n",
    "\n",
    "epochs = range(1, len(acc) + 1)\n",
    "\n",
    "plt.plot(epochs, acc, 'bo', label = 'Training acc')\n",
    "plt.plot(epochs, val_acc, 'b', label = 'Validation acc')\n",
    "plt.title('Training and validation accuracy')\n",
    "plt.legend()\n",
    "plt.figure()\n",
    "\n",
    "plt.plot(epochs, loss, 'bo', label = 'Training loss')\n",
    "plt.plot(epochs, val_loss, 'b', label = 'Validation loss')\n",
    "plt.title('Training and validation loss')\n",
    "plt.legend()\n",
    "plt.show()"
   ]
  },
  {
   "cell_type": "markdown",
   "metadata": {},
   "source": [
    "#### Loading model "
   ]
  },
  {
   "cell_type": "code",
   "execution_count": 38,
   "metadata": {},
   "outputs": [],
   "source": [
    "from keras.models import load_model\n",
    "\n",
    "model = load_model('model-2.h5')"
   ]
  },
  {
   "cell_type": "markdown",
   "metadata": {},
   "source": [
    "#### Predict on validation data "
   ]
  },
  {
   "cell_type": "code",
   "execution_count": 24,
   "metadata": {},
   "outputs": [
    {
     "name": "stdout",
     "output_type": "stream",
     "text": [
      "Found 44005 images belonging to 2 classes.\n",
      "44005/44005 [==============================] - 2132s 48ms/step\n"
     ]
    }
   ],
   "source": [
    "# predict on validation data - create new data generator that points to validation directory \n",
    "\n",
    "test_gen = test_datagen.flow_from_directory(\n",
    "    validation_dir, \n",
    "    target_size  = (IMAGE_SIZE, IMAGE_SIZE),\n",
    "    batch_size = 1,\n",
    "    class_mode = 'binary',\n",
    "    shuffle = False\n",
    "\n",
    ")\n",
    "\n",
    "predictions = model.predict_generator(test_gen, steps = len(df_val), verbose = 1)"
   ]
  },
  {
   "cell_type": "markdown",
   "metadata": {},
   "source": [
    "#### Validation using ROC AUC and precision & recall \n",
    "\n",
    "1. __Precision__\n",
    "_calculates the accuracy of the positive predictions of the classifier and is defined as_ \n",
    "\n",
    "$$\\frac{TP}{TP + FP}$$\n",
    "\n",
    "2. __Recall__\n",
    "_the sensitivity (true positive rate) of the classifier and is defined as_\n",
    "\n",
    "$$\\frac{TP}{TP + FN}$$\n",
    "\n",
    "3. The harmonic mean of precision and recall is called the F1-score and it is defined as\n",
    "\n",
    "$$ 2* \\frac{precision * recall}{precision + recall}$$\n",
    "\n",
    "4. The ROC curve \n",
    "\n",
    "_Reciever operating characteristic (ROC) plots the true positive rate (recall) against false positive rate i.e. the ratio of negative instances that are incorrectly classified as positive. Equal to 1 - true negative rate which is the ratio of negative instances correctly classified as negative_\n",
    "\n",
    "5. AUC ROC \n",
    "\n",
    "_The area under the ROC curve_"
   ]
  },
  {
   "cell_type": "markdown",
   "metadata": {},
   "source": [
    "#### AUC ROC evaluation "
   ]
  },
  {
   "cell_type": "code",
   "execution_count": 26,
   "metadata": {},
   "outputs": [],
   "source": [
    "# get the true classes \n",
    "\n",
    "true_targets = test_gen.classes"
   ]
  },
  {
   "cell_type": "code",
   "execution_count": 27,
   "metadata": {},
   "outputs": [
    {
     "data": {
      "text/plain": [
       "0.9698984620108524"
      ]
     },
     "execution_count": 27,
     "metadata": {},
     "output_type": "execute_result"
    }
   ],
   "source": [
    "from sklearn.metrics import roc_auc_score\n",
    "\n",
    "roc_auc_score(true_targets, predictions)"
   ]
  },
  {
   "cell_type": "code",
   "execution_count": 28,
   "metadata": {},
   "outputs": [
    {
     "name": "stdout",
     "output_type": "stream",
     "text": [
      "              precision    recall  f1-score   support\n",
      "\n",
      "           0       0.92      0.94      0.93     26193\n",
      "           1       0.91      0.88      0.89     17812\n",
      "\n",
      "   micro avg       0.92      0.92      0.92     44005\n",
      "   macro avg       0.91      0.91      0.91     44005\n",
      "weighted avg       0.92      0.92      0.92     44005\n",
      "\n"
     ]
    }
   ],
   "source": [
    "# classification report \n",
    "\n",
    "pred_binary = np.round(predictions)\n",
    "\n",
    "from sklearn.metrics import classification_report\n",
    "\n",
    "report = classification_report(true_targets, pred_binary)\n",
    "\n",
    "print(report)"
   ]
  },
  {
   "cell_type": "markdown",
   "metadata": {},
   "source": [
    "#### Making kaggle submission "
   ]
  },
  {
   "cell_type": "code",
   "execution_count": 39,
   "metadata": {},
   "outputs": [
    {
     "name": "stdout",
     "output_type": "stream",
     "text": [
      "Found 57458 images belonging to 1 classes.\n"
     ]
    }
   ],
   "source": [
    "# predict on test data \n",
    "test_set_dir = '/home/knajf/test/'\n",
    "\n",
    "test_data_generator = test_datagen.flow_from_directory(\n",
    "        test_set_dir,\n",
    "        target_size = (IMAGE_SIZE, IMAGE_SIZE),\n",
    "        batch_size = 1,\n",
    "        class_mode = 'binary',\n",
    "        shuffle = False \n",
    ")\n",
    "\n"
   ]
  },
  {
   "cell_type": "code",
   "execution_count": 40,
   "metadata": {},
   "outputs": [],
   "source": [
    "# load weights from best epoch \n",
    "\n",
    "model.load_weights('model-2.h5')"
   ]
  },
  {
   "cell_type": "code",
   "execution_count": 41,
   "metadata": {},
   "outputs": [
    {
     "name": "stdout",
     "output_type": "stream",
     "text": [
      "57458/57458 [==============================] - 3468s 60ms/step\n"
     ]
    }
   ],
   "source": [
    "test_predictions = model.predict_generator(test_data_generator, steps = 57458, verbose = 1)"
   ]
  },
  {
   "cell_type": "code",
   "execution_count": 59,
   "metadata": {},
   "outputs": [],
   "source": [
    "filenames = test_data_generator.filenames\n",
    "\n",
    "id = [fname.split('/')[-1].split('.')[0] for fname in filenames]\n",
    "\n",
    "submission_df = pd.DataFrame({'id':id, \n",
    "                           'label':test_predictions.reshape(-1), \n",
    "                          }).set_index('id')\n"
   ]
  },
  {
   "cell_type": "code",
   "execution_count": 61,
   "metadata": {},
   "outputs": [],
   "source": [
    "submission_df.to_csv('histo-cancer-sub.csv', columns=['label']) "
   ]
  },
  {
   "cell_type": "code",
   "execution_count": 62,
   "metadata": {},
   "outputs": [
    {
     "name": "stdout",
     "output_type": "stream",
     "text": [
      "/home/jupyter\n"
     ]
    }
   ],
   "source": [
    "# get current path\n",
    "\n",
    "print(os.getcwd())"
   ]
  }
 ],
 "metadata": {
  "kernelspec": {
   "display_name": "Python 3",
   "language": "python",
   "name": "python3"
  },
  "language_info": {
   "codemirror_mode": {
    "name": "ipython",
    "version": 3
   },
   "file_extension": ".py",
   "mimetype": "text/x-python",
   "name": "python",
   "nbconvert_exporter": "python",
   "pygments_lexer": "ipython3",
   "version": "3.5.3"
  }
 },
 "nbformat": 4,
 "nbformat_minor": 2
}
